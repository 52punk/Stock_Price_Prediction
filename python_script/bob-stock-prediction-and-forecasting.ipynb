{
 "cells": [
  {
   "cell_type": "code",
   "execution_count": 1,
   "id": "hawaiian-context",
   "metadata": {
    "_cell_guid": "b1076dfc-b9ad-4769-8c92-a6c4dae69d19",
    "_uuid": "8f2839f25d086af736a60e9eeb907d3b93b6e0e5",
    "execution": {
     "iopub.execute_input": "2021-06-18T15:18:34.507706Z",
     "iopub.status.busy": "2021-06-18T15:18:34.507023Z",
     "iopub.status.idle": "2021-06-18T15:18:34.521709Z",
     "shell.execute_reply": "2021-06-18T15:18:34.520754Z",
     "shell.execute_reply.started": "2021-06-18T15:00:16.321385Z"
    },
    "papermill": {
     "duration": 0.043119,
     "end_time": "2021-06-18T15:18:34.521949",
     "exception": false,
     "start_time": "2021-06-18T15:18:34.478830",
     "status": "completed"
    },
    "tags": []
   },
   "outputs": [
    {
     "name": "stdout",
     "output_type": "stream",
     "text": [
      "/kaggle/input/originaldatastockbob/original.csv\n"
     ]
    }
   ],
   "source": [
    "# This Python 3 environment comes with many helpful analytics libraries installed\n",
    "# It is defined by the kaggle/python Docker image: https://github.com/kaggle/docker-python\n",
    "# For example, here's several helpful packages to load\n",
    "\n",
    "import numpy as np # linear algebra\n",
    "import pandas as pd # data processing, CSV file I/O (e.g. pd.read_csv)\n",
    "\n",
    "# Input data files are available in the read-only \"../input/\" directory\n",
    "# For example, running this (by clicking run or pressing Shift+Enter) will list all files under the input directory\n",
    "\n",
    "import os\n",
    "for dirname, _, filenames in os.walk('/kaggle/input'):\n",
    "    for filename in filenames:\n",
    "        print(os.path.join(dirname, filename))\n",
    "\n",
    "# You can write up to 20GB to the current directory (/kaggle/working/) that gets preserved as output when you create a version using \"Save & Run All\" \n",
    "# You can also write temporary files to /kaggle/temp/, but they won't be saved outside of the current session"
   ]
  },
  {
   "cell_type": "code",
   "execution_count": 2,
   "id": "sharing-livestock",
   "metadata": {
    "execution": {
     "iopub.execute_input": "2021-06-18T15:18:34.569873Z",
     "iopub.status.busy": "2021-06-18T15:18:34.569110Z",
     "iopub.status.idle": "2021-06-18T15:18:34.585710Z",
     "shell.execute_reply": "2021-06-18T15:18:34.584889Z",
     "shell.execute_reply.started": "2021-06-18T15:01:50.490892Z"
    },
    "papermill": {
     "duration": 0.042011,
     "end_time": "2021-06-18T15:18:34.585928",
     "exception": false,
     "start_time": "2021-06-18T15:18:34.543917",
     "status": "completed"
    },
    "tags": []
   },
   "outputs": [
    {
     "name": "stdout",
     "output_type": "stream",
     "text": [
      "df -- (1232,)\n"
     ]
    }
   ],
   "source": [
    "from numpy import loadtxt\n",
    "df = loadtxt('../input/originaldatastockbob/original.csv', delimiter=',')\n",
    "print(f\"df -- {df.shape}\")"
   ]
  },
  {
   "cell_type": "code",
   "execution_count": 3,
   "id": "brutal-recruitment",
   "metadata": {
    "execution": {
     "iopub.execute_input": "2021-06-18T15:18:34.635462Z",
     "iopub.status.busy": "2021-06-18T15:18:34.634732Z",
     "iopub.status.idle": "2021-06-18T15:18:35.662175Z",
     "shell.execute_reply": "2021-06-18T15:18:35.662764Z",
     "shell.execute_reply.started": "2021-06-18T15:02:00.611559Z"
    },
    "papermill": {
     "duration": 1.054918,
     "end_time": "2021-06-18T15:18:35.662956",
     "exception": false,
     "start_time": "2021-06-18T15:18:34.608038",
     "status": "completed"
    },
    "tags": []
   },
   "outputs": [
    {
     "name": "stdout",
     "output_type": "stream",
     "text": [
      "[[0.67158554]\n",
      " [0.68383042]\n",
      " [0.699843  ]\n",
      " ...\n",
      " [0.28069072]\n",
      " [0.28445842]\n",
      " [0.28477236]]\n"
     ]
    }
   ],
   "source": [
    "from sklearn.preprocessing import MinMaxScaler\n",
    "scaler = MinMaxScaler()\n",
    "new_df = scaler.fit_transform(np.array(df).reshape(-1,1))\n",
    "\n",
    "print(new_df)"
   ]
  },
  {
   "cell_type": "code",
   "execution_count": 4,
   "id": "collect-subsection",
   "metadata": {
    "execution": {
     "iopub.execute_input": "2021-06-18T15:18:35.724300Z",
     "iopub.status.busy": "2021-06-18T15:18:35.723402Z",
     "iopub.status.idle": "2021-06-18T15:18:35.726836Z",
     "shell.execute_reply": "2021-06-18T15:18:35.727587Z",
     "shell.execute_reply.started": "2021-06-18T15:02:23.301469Z"
    },
    "papermill": {
     "duration": 0.034601,
     "end_time": "2021-06-18T15:18:35.727823",
     "exception": false,
     "start_time": "2021-06-18T15:18:35.693222",
     "status": "completed"
    },
    "tags": []
   },
   "outputs": [
    {
     "name": "stdout",
     "output_type": "stream",
     "text": [
      "(825, 1)\n",
      "(407, 1)\n"
     ]
    }
   ],
   "source": [
    "training_size=int(len(new_df)*0.67)\n",
    "test_size=len(new_df)-training_size\n",
    "train_data,test_data=new_df[0:training_size,:],new_df[training_size:len(new_df),:1]\n",
    "\n",
    "print(train_data.shape)\n",
    "print(test_data.shape)"
   ]
  },
  {
   "cell_type": "code",
   "execution_count": 5,
   "id": "connected-bangkok",
   "metadata": {
    "execution": {
     "iopub.execute_input": "2021-06-18T15:18:35.781974Z",
     "iopub.status.busy": "2021-06-18T15:18:35.780953Z",
     "iopub.status.idle": "2021-06-18T15:18:35.793852Z",
     "shell.execute_reply": "2021-06-18T15:18:35.793276Z",
     "shell.execute_reply.started": "2021-06-18T15:02:37.392182Z"
    },
    "papermill": {
     "duration": 0.041059,
     "end_time": "2021-06-18T15:18:35.794011",
     "exception": false,
     "start_time": "2021-06-18T15:18:35.752952",
     "status": "completed"
    },
    "tags": []
   },
   "outputs": [],
   "source": [
    "def create_dataset(dataset, time_step=1):\n",
    "\tdataX, dataY = [], []\n",
    "\tfor i in range(len(dataset)-time_step-1):\n",
    "\t\ta = dataset[i:(i+time_step), 0]   ###i=0, 0,1,2,3-----99   100 \n",
    "\t\tdataX.append(a)\n",
    "\t\tdataY.append(dataset[i + time_step, 0])\n",
    "\treturn np.array(dataX), np.array(dataY)"
   ]
  },
  {
   "cell_type": "code",
   "execution_count": 6,
   "id": "tested-clearance",
   "metadata": {
    "execution": {
     "iopub.execute_input": "2021-06-18T15:18:35.844887Z",
     "iopub.status.busy": "2021-06-18T15:18:35.843828Z",
     "iopub.status.idle": "2021-06-18T15:18:35.851548Z",
     "shell.execute_reply": "2021-06-18T15:18:35.852388Z",
     "shell.execute_reply.started": "2021-06-18T15:03:02.101991Z"
    },
    "papermill": {
     "duration": 0.036902,
     "end_time": "2021-06-18T15:18:35.852636",
     "exception": false,
     "start_time": "2021-06-18T15:18:35.815734",
     "status": "completed"
    },
    "tags": []
   },
   "outputs": [
    {
     "name": "stdout",
     "output_type": "stream",
     "text": [
      "(724, 100) (724,) (306, 100) (306,)\n"
     ]
    }
   ],
   "source": [
    "time_step=100\n",
    "X_train, Y_train = create_dataset(train_data, time_step)\n",
    "X_test, Y_test = create_dataset(test_data, time_step)\n",
    "print(X_train.shape, Y_train.shape, X_test.shape, Y_test.shape)"
   ]
  },
  {
   "cell_type": "code",
   "execution_count": 7,
   "id": "municipal-aquarium",
   "metadata": {
    "execution": {
     "iopub.execute_input": "2021-06-18T15:18:35.923979Z",
     "iopub.status.busy": "2021-06-18T15:18:35.922917Z",
     "iopub.status.idle": "2021-06-18T15:18:35.930037Z",
     "shell.execute_reply": "2021-06-18T15:18:35.930651Z",
     "shell.execute_reply.started": "2021-06-18T15:03:22.307708Z"
    },
    "papermill": {
     "duration": 0.041455,
     "end_time": "2021-06-18T15:18:35.930834",
     "exception": false,
     "start_time": "2021-06-18T15:18:35.889379",
     "status": "completed"
    },
    "tags": []
   },
   "outputs": [
    {
     "name": "stdout",
     "output_type": "stream",
     "text": [
      "(724, 100, 1) (306, 100, 1)\n"
     ]
    }
   ],
   "source": [
    "X_train =X_train.reshape(X_train.shape[0],X_train.shape[1] , 1)\n",
    "X_test = X_test.reshape(X_test.shape[0],X_test.shape[1] , 1)\n",
    "print(X_train.shape, X_test.shape)"
   ]
  },
  {
   "cell_type": "code",
   "execution_count": 8,
   "id": "appointed-search",
   "metadata": {
    "execution": {
     "iopub.execute_input": "2021-06-18T15:18:35.985306Z",
     "iopub.status.busy": "2021-06-18T15:18:35.980974Z",
     "iopub.status.idle": "2021-06-18T15:18:42.319514Z",
     "shell.execute_reply": "2021-06-18T15:18:42.318353Z",
     "shell.execute_reply.started": "2021-06-18T15:03:37.761959Z"
    },
    "papermill": {
     "duration": 6.364167,
     "end_time": "2021-06-18T15:18:42.319685",
     "exception": false,
     "start_time": "2021-06-18T15:18:35.955518",
     "status": "completed"
    },
    "tags": []
   },
   "outputs": [
    {
     "name": "stdout",
     "output_type": "stream",
     "text": [
      "Model: \"sequential\"\n",
      "_________________________________________________________________\n",
      "Layer (type)                 Output Shape              Param #   \n",
      "=================================================================\n",
      "lstm (LSTM)                  (None, 100, 50)           10400     \n",
      "_________________________________________________________________\n",
      "lstm_1 (LSTM)                (None, 100, 50)           20200     \n",
      "_________________________________________________________________\n",
      "lstm_2 (LSTM)                (None, 50)                20200     \n",
      "_________________________________________________________________\n",
      "dense (Dense)                (None, 1)                 51        \n",
      "=================================================================\n",
      "Total params: 50,851\n",
      "Trainable params: 50,851\n",
      "Non-trainable params: 0\n",
      "_________________________________________________________________\n"
     ]
    }
   ],
   "source": [
    "from tensorflow.keras.models import Sequential\n",
    "from tensorflow.keras.layers import Dense\n",
    "from tensorflow.keras.layers import LSTM\n",
    "\n",
    "model=Sequential()\n",
    "model.add(LSTM(50,return_sequences=True,input_shape=(100,1)))\n",
    "model.add(LSTM(50,return_sequences=True))\n",
    "model.add(LSTM(50))\n",
    "model.add(Dense(1))\n",
    "model.compile(loss='mean_squared_error',optimizer='adam')\n",
    "\n",
    "model.summary()"
   ]
  },
  {
   "cell_type": "code",
   "execution_count": 9,
   "id": "dietary-husband",
   "metadata": {
    "execution": {
     "iopub.execute_input": "2021-06-18T15:18:42.371956Z",
     "iopub.status.busy": "2021-06-18T15:18:42.371262Z",
     "iopub.status.idle": "2021-06-18T15:22:47.396241Z",
     "shell.execute_reply": "2021-06-18T15:22:47.395609Z",
     "shell.execute_reply.started": "2021-06-18T15:03:51.511596Z"
    },
    "papermill": {
     "duration": 245.053263,
     "end_time": "2021-06-18T15:22:47.396433",
     "exception": false,
     "start_time": "2021-06-18T15:18:42.343170",
     "status": "completed"
    },
    "tags": []
   },
   "outputs": [
    {
     "name": "stdout",
     "output_type": "stream",
     "text": [
      "Epoch 1/100\n",
      "12/12 [==============================] - 9s 348ms/step - loss: 0.2947 - val_loss: 0.0200\n",
      "Epoch 2/100\n",
      "12/12 [==============================] - 2s 198ms/step - loss: 0.0207 - val_loss: 0.0388\n",
      "Epoch 3/100\n",
      "12/12 [==============================] - 2s 192ms/step - loss: 0.0130 - val_loss: 0.0198\n",
      "Epoch 4/100\n",
      "12/12 [==============================] - 2s 195ms/step - loss: 0.0092 - val_loss: 0.0273\n",
      "Epoch 5/100\n",
      "12/12 [==============================] - 2s 204ms/step - loss: 0.0073 - val_loss: 0.0218\n",
      "Epoch 6/100\n",
      "12/12 [==============================] - 2s 197ms/step - loss: 0.0061 - val_loss: 0.0152\n",
      "Epoch 7/100\n",
      "12/12 [==============================] - 2s 198ms/step - loss: 0.0056 - val_loss: 0.0122\n",
      "Epoch 8/100\n",
      "12/12 [==============================] - 2s 196ms/step - loss: 0.0049 - val_loss: 0.0085\n",
      "Epoch 9/100\n",
      "12/12 [==============================] - 2s 192ms/step - loss: 0.0044 - val_loss: 0.0063\n",
      "Epoch 10/100\n",
      "12/12 [==============================] - 2s 196ms/step - loss: 0.0043 - val_loss: 0.0047\n",
      "Epoch 11/100\n",
      "12/12 [==============================] - 2s 199ms/step - loss: 0.0044 - val_loss: 0.0040\n",
      "Epoch 12/100\n",
      "12/12 [==============================] - 2s 193ms/step - loss: 0.0043 - val_loss: 0.0039\n",
      "Epoch 13/100\n",
      "12/12 [==============================] - 2s 193ms/step - loss: 0.0040 - val_loss: 0.0037\n",
      "Epoch 14/100\n",
      "12/12 [==============================] - 3s 216ms/step - loss: 0.0041 - val_loss: 0.0036\n",
      "Epoch 15/100\n",
      "12/12 [==============================] - 2s 198ms/step - loss: 0.0037 - val_loss: 0.0031\n",
      "Epoch 16/100\n",
      "12/12 [==============================] - 2s 195ms/step - loss: 0.0045 - val_loss: 0.0035\n",
      "Epoch 17/100\n",
      "12/12 [==============================] - 2s 198ms/step - loss: 0.0038 - val_loss: 0.0039\n",
      "Epoch 18/100\n",
      "12/12 [==============================] - 2s 199ms/step - loss: 0.0034 - val_loss: 0.0039\n",
      "Epoch 19/100\n",
      "12/12 [==============================] - 2s 205ms/step - loss: 0.0038 - val_loss: 0.0031\n",
      "Epoch 20/100\n",
      "12/12 [==============================] - 2s 201ms/step - loss: 0.0042 - val_loss: 0.0035\n",
      "Epoch 21/100\n",
      "12/12 [==============================] - 2s 201ms/step - loss: 0.0036 - val_loss: 0.0038\n",
      "Epoch 22/100\n",
      "12/12 [==============================] - 2s 198ms/step - loss: 0.0035 - val_loss: 0.0035\n",
      "Epoch 23/100\n",
      "12/12 [==============================] - 2s 199ms/step - loss: 0.0034 - val_loss: 0.0035\n",
      "Epoch 24/100\n",
      "12/12 [==============================] - 2s 201ms/step - loss: 0.0035 - val_loss: 0.0038\n",
      "Epoch 25/100\n",
      "12/12 [==============================] - 2s 199ms/step - loss: 0.0032 - val_loss: 0.0033\n",
      "Epoch 26/100\n",
      "12/12 [==============================] - 2s 198ms/step - loss: 0.0028 - val_loss: 0.0034\n",
      "Epoch 27/100\n",
      "12/12 [==============================] - 2s 198ms/step - loss: 0.0027 - val_loss: 0.0037\n",
      "Epoch 28/100\n",
      "12/12 [==============================] - 3s 216ms/step - loss: 0.0027 - val_loss: 0.0039\n",
      "Epoch 29/100\n",
      "12/12 [==============================] - 2s 198ms/step - loss: 0.0027 - val_loss: 0.0033\n",
      "Epoch 30/100\n",
      "12/12 [==============================] - 2s 198ms/step - loss: 0.0034 - val_loss: 0.0041\n",
      "Epoch 31/100\n",
      "12/12 [==============================] - 2s 196ms/step - loss: 0.0025 - val_loss: 0.0032\n",
      "Epoch 32/100\n",
      "12/12 [==============================] - 2s 195ms/step - loss: 0.0027 - val_loss: 0.0034\n",
      "Epoch 33/100\n",
      "12/12 [==============================] - 2s 201ms/step - loss: 0.0025 - val_loss: 0.0030\n",
      "Epoch 34/100\n",
      "12/12 [==============================] - 2s 194ms/step - loss: 0.0027 - val_loss: 0.0034\n",
      "Epoch 35/100\n",
      "12/12 [==============================] - 2s 198ms/step - loss: 0.0024 - val_loss: 0.0034\n",
      "Epoch 36/100\n",
      "12/12 [==============================] - 2s 203ms/step - loss: 0.0024 - val_loss: 0.0025\n",
      "Epoch 37/100\n",
      "12/12 [==============================] - 2s 198ms/step - loss: 0.0023 - val_loss: 0.0029\n",
      "Epoch 38/100\n",
      "12/12 [==============================] - 2s 202ms/step - loss: 0.0024 - val_loss: 0.0030\n",
      "Epoch 39/100\n",
      "12/12 [==============================] - 2s 196ms/step - loss: 0.0024 - val_loss: 0.0024\n",
      "Epoch 40/100\n",
      "12/12 [==============================] - 2s 195ms/step - loss: 0.0027 - val_loss: 0.0027\n",
      "Epoch 41/100\n",
      "12/12 [==============================] - 2s 197ms/step - loss: 0.0023 - val_loss: 0.0025\n",
      "Epoch 42/100\n",
      "12/12 [==============================] - 3s 219ms/step - loss: 0.0022 - val_loss: 0.0022\n",
      "Epoch 43/100\n",
      "12/12 [==============================] - 2s 201ms/step - loss: 0.0024 - val_loss: 0.0032\n",
      "Epoch 44/100\n",
      "12/12 [==============================] - 2s 204ms/step - loss: 0.0023 - val_loss: 0.0024\n",
      "Epoch 45/100\n",
      "12/12 [==============================] - 2s 202ms/step - loss: 0.0023 - val_loss: 0.0031\n",
      "Epoch 46/100\n",
      "12/12 [==============================] - 2s 203ms/step - loss: 0.0025 - val_loss: 0.0026\n",
      "Epoch 47/100\n",
      "12/12 [==============================] - 2s 210ms/step - loss: 0.0022 - val_loss: 0.0029\n",
      "Epoch 48/100\n",
      "12/12 [==============================] - 2s 199ms/step - loss: 0.0022 - val_loss: 0.0026\n",
      "Epoch 49/100\n",
      "12/12 [==============================] - 2s 203ms/step - loss: 0.0024 - val_loss: 0.0025\n",
      "Epoch 50/100\n",
      "12/12 [==============================] - 2s 201ms/step - loss: 0.0023 - val_loss: 0.0022\n",
      "Epoch 51/100\n",
      "12/12 [==============================] - 2s 201ms/step - loss: 0.0019 - val_loss: 0.0025\n",
      "Epoch 52/100\n",
      "12/12 [==============================] - 2s 200ms/step - loss: 0.0020 - val_loss: 0.0022\n",
      "Epoch 53/100\n",
      "12/12 [==============================] - 2s 199ms/step - loss: 0.0024 - val_loss: 0.0018\n",
      "Epoch 54/100\n",
      "12/12 [==============================] - 2s 201ms/step - loss: 0.0023 - val_loss: 0.0023\n",
      "Epoch 55/100\n",
      "12/12 [==============================] - 3s 219ms/step - loss: 0.0023 - val_loss: 0.0023\n",
      "Epoch 56/100\n",
      "12/12 [==============================] - 2s 203ms/step - loss: 0.0019 - val_loss: 0.0022\n",
      "Epoch 57/100\n",
      "12/12 [==============================] - 2s 200ms/step - loss: 0.0017 - val_loss: 0.0020\n",
      "Epoch 58/100\n",
      "12/12 [==============================] - 2s 199ms/step - loss: 0.0017 - val_loss: 0.0020\n",
      "Epoch 59/100\n",
      "12/12 [==============================] - 2s 199ms/step - loss: 0.0018 - val_loss: 0.0025\n",
      "Epoch 60/100\n",
      "12/12 [==============================] - 2s 201ms/step - loss: 0.0018 - val_loss: 0.0025\n",
      "Epoch 61/100\n",
      "12/12 [==============================] - 2s 197ms/step - loss: 0.0018 - val_loss: 0.0018\n",
      "Epoch 62/100\n",
      "12/12 [==============================] - 2s 200ms/step - loss: 0.0022 - val_loss: 0.0024\n",
      "Epoch 63/100\n",
      "12/12 [==============================] - 2s 193ms/step - loss: 0.0021 - val_loss: 0.0020\n",
      "Epoch 64/100\n",
      "12/12 [==============================] - 2s 193ms/step - loss: 0.0017 - val_loss: 0.0018\n",
      "Epoch 65/100\n",
      "12/12 [==============================] - 2s 200ms/step - loss: 0.0018 - val_loss: 0.0020\n",
      "Epoch 66/100\n",
      "12/12 [==============================] - 2s 198ms/step - loss: 0.0018 - val_loss: 0.0021\n",
      "Epoch 67/100\n",
      "12/12 [==============================] - 2s 198ms/step - loss: 0.0018 - val_loss: 0.0017\n",
      "Epoch 68/100\n",
      "12/12 [==============================] - 3s 215ms/step - loss: 0.0015 - val_loss: 0.0021\n",
      "Epoch 69/100\n",
      "12/12 [==============================] - 2s 207ms/step - loss: 0.0017 - val_loss: 0.0024\n",
      "Epoch 70/100\n",
      "12/12 [==============================] - 2s 210ms/step - loss: 0.0020 - val_loss: 0.0021\n",
      "Epoch 71/100\n",
      "12/12 [==============================] - 2s 201ms/step - loss: 0.0015 - val_loss: 0.0019\n",
      "Epoch 72/100\n",
      "12/12 [==============================] - 2s 197ms/step - loss: 0.0016 - val_loss: 0.0018\n",
      "Epoch 73/100\n",
      "12/12 [==============================] - 2s 200ms/step - loss: 0.0016 - val_loss: 0.0021\n",
      "Epoch 74/100\n",
      "12/12 [==============================] - 2s 207ms/step - loss: 0.0015 - val_loss: 0.0019\n",
      "Epoch 75/100\n",
      "12/12 [==============================] - 2s 200ms/step - loss: 0.0018 - val_loss: 0.0018\n",
      "Epoch 76/100\n",
      "12/12 [==============================] - 2s 198ms/step - loss: 0.0019 - val_loss: 0.0018\n",
      "Epoch 77/100\n",
      "12/12 [==============================] - 2s 200ms/step - loss: 0.0017 - val_loss: 0.0017\n",
      "Epoch 78/100\n",
      "12/12 [==============================] - 2s 201ms/step - loss: 0.0015 - val_loss: 0.0018\n",
      "Epoch 79/100\n",
      "12/12 [==============================] - 2s 203ms/step - loss: 0.0013 - val_loss: 0.0019\n",
      "Epoch 80/100\n",
      "12/12 [==============================] - 2s 199ms/step - loss: 0.0016 - val_loss: 0.0016\n",
      "Epoch 81/100\n",
      "12/12 [==============================] - 2s 198ms/step - loss: 0.0012 - val_loss: 0.0018\n",
      "Epoch 82/100\n",
      "12/12 [==============================] - 2s 207ms/step - loss: 0.0012 - val_loss: 0.0015\n",
      "Epoch 83/100\n",
      "12/12 [==============================] - 2s 201ms/step - loss: 0.0012 - val_loss: 0.0018\n",
      "Epoch 84/100\n",
      "12/12 [==============================] - 2s 196ms/step - loss: 0.0013 - val_loss: 0.0015\n",
      "Epoch 85/100\n",
      "12/12 [==============================] - 2s 197ms/step - loss: 0.0013 - val_loss: 0.0015\n",
      "Epoch 86/100\n",
      "12/12 [==============================] - 2s 200ms/step - loss: 0.0013 - val_loss: 0.0012\n",
      "Epoch 87/100\n",
      "12/12 [==============================] - 2s 210ms/step - loss: 0.0017 - val_loss: 0.0013\n",
      "Epoch 88/100\n",
      "12/12 [==============================] - 2s 201ms/step - loss: 0.0015 - val_loss: 0.0014\n",
      "Epoch 89/100\n",
      "12/12 [==============================] - 2s 199ms/step - loss: 0.0013 - val_loss: 0.0014\n",
      "Epoch 90/100\n",
      "12/12 [==============================] - 2s 199ms/step - loss: 9.2830e-04 - val_loss: 0.0013\n",
      "Epoch 91/100\n",
      "12/12 [==============================] - 2s 199ms/step - loss: 0.0011 - val_loss: 0.0014\n",
      "Epoch 92/100\n",
      "12/12 [==============================] - 2s 200ms/step - loss: 0.0013 - val_loss: 0.0015\n",
      "Epoch 93/100\n",
      "12/12 [==============================] - 2s 204ms/step - loss: 9.4477e-04 - val_loss: 0.0020\n",
      "Epoch 94/100\n",
      "12/12 [==============================] - 2s 201ms/step - loss: 0.0015 - val_loss: 0.0018\n",
      "Epoch 95/100\n",
      "12/12 [==============================] - 3s 218ms/step - loss: 0.0010 - val_loss: 0.0015\n",
      "Epoch 96/100\n",
      "12/12 [==============================] - 2s 200ms/step - loss: 0.0013 - val_loss: 0.0016\n",
      "Epoch 97/100\n",
      "12/12 [==============================] - 2s 202ms/step - loss: 0.0012 - val_loss: 0.0014\n",
      "Epoch 98/100\n",
      "12/12 [==============================] - 2s 199ms/step - loss: 9.9714e-04 - val_loss: 0.0014\n",
      "Epoch 99/100\n",
      "12/12 [==============================] - 2s 200ms/step - loss: 0.0011 - val_loss: 0.0016\n",
      "Epoch 100/100\n",
      "12/12 [==============================] - 2s 203ms/step - loss: 9.9865e-04 - val_loss: 0.0017\n"
     ]
    },
    {
     "data": {
      "text/plain": [
       "<tensorflow.python.keras.callbacks.History at 0x7f5d4f7b2090>"
      ]
     },
     "execution_count": 9,
     "metadata": {},
     "output_type": "execute_result"
    }
   ],
   "source": [
    "model.fit(X_train,Y_train,validation_data=(X_test, Y_test),epochs=100,batch_size=64,verbose=1)"
   ]
  },
  {
   "cell_type": "code",
   "execution_count": 10,
   "id": "accurate-sculpture",
   "metadata": {
    "execution": {
     "iopub.execute_input": "2021-06-18T15:22:48.216840Z",
     "iopub.status.busy": "2021-06-18T15:22:48.216141Z",
     "iopub.status.idle": "2021-06-18T15:22:50.380360Z",
     "shell.execute_reply": "2021-06-18T15:22:50.379669Z",
     "shell.execute_reply.started": "2021-06-18T15:09:25.181775Z"
    },
    "papermill": {
     "duration": 2.578167,
     "end_time": "2021-06-18T15:22:50.380512",
     "exception": false,
     "start_time": "2021-06-18T15:22:47.802345",
     "status": "completed"
    },
    "tags": []
   },
   "outputs": [
    {
     "name": "stdout",
     "output_type": "stream",
     "text": [
      "(724, 1) (306, 1)\n"
     ]
    }
   ],
   "source": [
    "train_predict=model.predict(X_train)\n",
    "test_predict=model.predict(X_test)\n",
    "print(train_predict.shape, test_predict.shape)"
   ]
  },
  {
   "cell_type": "code",
   "execution_count": 11,
   "id": "prime-traveler",
   "metadata": {
    "execution": {
     "iopub.execute_input": "2021-06-18T15:22:51.228964Z",
     "iopub.status.busy": "2021-06-18T15:22:51.228213Z",
     "iopub.status.idle": "2021-06-18T15:22:51.231668Z",
     "shell.execute_reply": "2021-06-18T15:22:51.231032Z",
     "shell.execute_reply.started": "2021-06-18T15:11:16.001083Z"
    },
    "papermill": {
     "duration": 0.41662,
     "end_time": "2021-06-18T15:22:51.231811",
     "exception": false,
     "start_time": "2021-06-18T15:22:50.815191",
     "status": "completed"
    },
    "tags": []
   },
   "outputs": [],
   "source": [
    "\n",
    "obj = scaler.fit(np.array(new_df).reshape(-1,1))\n",
    "train_predict=obj.inverse_transform(train_predict)\n",
    "test_predict=obj.inverse_transform(test_predict)"
   ]
  },
  {
   "cell_type": "code",
   "execution_count": 12,
   "id": "commercial-association",
   "metadata": {
    "execution": {
     "iopub.execute_input": "2021-06-18T15:22:52.045014Z",
     "iopub.status.busy": "2021-06-18T15:22:52.044364Z",
     "iopub.status.idle": "2021-06-18T15:22:52.108110Z",
     "shell.execute_reply": "2021-06-18T15:22:52.108615Z",
     "shell.execute_reply.started": "2021-06-18T15:11:18.356203Z"
    },
    "papermill": {
     "duration": 0.471549,
     "end_time": "2021-06-18T15:22:52.108811",
     "exception": false,
     "start_time": "2021-06-18T15:22:51.637262",
     "status": "completed"
    },
    "tags": []
   },
   "outputs": [
    {
     "data": {
      "text/plain": [
       "0.034927433519148655"
      ]
     },
     "execution_count": 12,
     "metadata": {},
     "output_type": "execute_result"
    }
   ],
   "source": [
    "import math\n",
    "from sklearn.metrics import mean_squared_error\n",
    "math.sqrt(mean_squared_error(Y_train,train_predict))"
   ]
  },
  {
   "cell_type": "code",
   "execution_count": 13,
   "id": "burning-thanks",
   "metadata": {
    "execution": {
     "iopub.execute_input": "2021-06-18T15:22:52.932007Z",
     "iopub.status.busy": "2021-06-18T15:22:52.930749Z",
     "iopub.status.idle": "2021-06-18T15:22:52.935232Z",
     "shell.execute_reply": "2021-06-18T15:22:52.934610Z",
     "shell.execute_reply.started": "2021-06-18T15:11:21.080870Z"
    },
    "papermill": {
     "duration": 0.416521,
     "end_time": "2021-06-18T15:22:52.935386",
     "exception": false,
     "start_time": "2021-06-18T15:22:52.518865",
     "status": "completed"
    },
    "tags": []
   },
   "outputs": [
    {
     "data": {
      "text/plain": [
       "0.04089513294109217"
      ]
     },
     "execution_count": 13,
     "metadata": {},
     "output_type": "execute_result"
    }
   ],
   "source": [
    "math.sqrt(mean_squared_error(Y_test,test_predict))"
   ]
  },
  {
   "cell_type": "code",
   "execution_count": 14,
   "id": "valued-information",
   "metadata": {
    "execution": {
     "iopub.execute_input": "2021-06-18T15:22:53.761079Z",
     "iopub.status.busy": "2021-06-18T15:22:53.760245Z",
     "iopub.status.idle": "2021-06-18T15:22:53.763249Z",
     "shell.execute_reply": "2021-06-18T15:22:53.762735Z",
     "shell.execute_reply.started": "2021-06-18T15:11:39.122063Z"
    },
    "papermill": {
     "duration": 0.418146,
     "end_time": "2021-06-18T15:22:53.763438",
     "exception": false,
     "start_time": "2021-06-18T15:22:53.345292",
     "status": "completed"
    },
    "tags": []
   },
   "outputs": [],
   "source": [
    "X = scaler.fit_transform(np.array(new_df).reshape(-1,1))"
   ]
  },
  {
   "cell_type": "code",
   "execution_count": 15,
   "id": "oriented-hamilton",
   "metadata": {
    "execution": {
     "iopub.execute_input": "2021-06-18T15:22:54.605264Z",
     "iopub.status.busy": "2021-06-18T15:22:54.604604Z",
     "iopub.status.idle": "2021-06-18T15:22:54.756641Z",
     "shell.execute_reply": "2021-06-18T15:22:54.756098Z",
     "shell.execute_reply.started": "2021-06-18T15:11:43.106289Z"
    },
    "papermill": {
     "duration": 0.583693,
     "end_time": "2021-06-18T15:22:54.756784",
     "exception": false,
     "start_time": "2021-06-18T15:22:54.173091",
     "status": "completed"
    },
    "tags": []
   },
   "outputs": [
    {
     "data": {
      "image/png": "[encoded data removed]",
      "text/plain": [
       "<Figure size 432x288 with 1 Axes>"
      ]
     },
     "metadata": {
      "needs_background": "light"
     },
     "output_type": "display_data"
    }
   ],
   "source": [
    "import matplotlib.pyplot as plt\n",
    "\n",
    "look_back=100\n",
    "trainPredictPlot = np.empty_like(X)\n",
    "trainPredictPlot[:, :] = np.nan\n",
    "trainPredictPlot[look_back:len(train_predict)+look_back, :] = train_predict\n",
    "# shift test predictions for plotting\n",
    "testPredictPlot = np.empty_like(X)\n",
    "testPredictPlot[:, :] = np.nan\n",
    "testPredictPlot[len(train_predict)+(look_back*2)+1:len(X)-1, :] = test_predict\n",
    "# plot baseline and predictions\n",
    "plt.plot(scaler.inverse_transform(X))\n",
    "plt.plot(trainPredictPlot)\n",
    "plt.plot(testPredictPlot)\n",
    "plt.show()"
   ]
  },
  {
   "cell_type": "code",
   "execution_count": 16,
   "id": "backed-clearing",
   "metadata": {
    "execution": {
     "iopub.execute_input": "2021-06-18T15:22:55.632812Z",
     "iopub.status.busy": "2021-06-18T15:22:55.632122Z",
     "iopub.status.idle": "2021-06-18T15:22:55.636801Z",
     "shell.execute_reply": "2021-06-18T15:22:55.636254Z",
     "shell.execute_reply.started": "2021-06-18T15:12:07.822101Z"
    },
    "papermill": {
     "duration": 0.47045,
     "end_time": "2021-06-18T15:22:55.636939",
     "exception": false,
     "start_time": "2021-06-18T15:22:55.166489",
     "status": "completed"
    },
    "tags": []
   },
   "outputs": [
    {
     "data": {
      "text/plain": [
       "407"
      ]
     },
     "execution_count": 16,
     "metadata": {},
     "output_type": "execute_result"
    }
   ],
   "source": [
    "\n",
    "len(test_data)"
   ]
  },
  {
   "cell_type": "code",
   "execution_count": 17,
   "id": "nervous-rates",
   "metadata": {
    "execution": {
     "iopub.execute_input": "2021-06-18T15:22:56.498699Z",
     "iopub.status.busy": "2021-06-18T15:22:56.497913Z",
     "iopub.status.idle": "2021-06-18T15:22:56.502718Z",
     "shell.execute_reply": "2021-06-18T15:22:56.502083Z",
     "shell.execute_reply.started": "2021-06-18T15:12:31.686847Z"
    },
    "papermill": {
     "duration": 0.456469,
     "end_time": "2021-06-18T15:22:56.502874",
     "exception": false,
     "start_time": "2021-06-18T15:22:56.046405",
     "status": "completed"
    },
    "tags": []
   },
   "outputs": [
    {
     "data": {
      "text/plain": [
       "(1, 100)"
      ]
     },
     "execution_count": 17,
     "metadata": {},
     "output_type": "execute_result"
    }
   ],
   "source": [
    "\n",
    "x_input=test_data[307:].reshape(1,-1)\n",
    "x_input.shape"
   ]
  },
  {
   "cell_type": "code",
   "execution_count": 18,
   "id": "figured-favor",
   "metadata": {
    "execution": {
     "iopub.execute_input": "2021-06-18T15:22:57.340452Z",
     "iopub.status.busy": "2021-06-18T15:22:57.339714Z",
     "iopub.status.idle": "2021-06-18T15:22:57.342907Z",
     "shell.execute_reply": "2021-06-18T15:22:57.343536Z",
     "shell.execute_reply.started": "2021-06-18T15:12:41.762798Z"
    },
    "papermill": {
     "duration": 0.421203,
     "end_time": "2021-06-18T15:22:57.343707",
     "exception": false,
     "start_time": "2021-06-18T15:22:56.922504",
     "status": "completed"
    },
    "tags": []
   },
   "outputs": [],
   "source": [
    "\n",
    "temp_input=list(x_input)\n",
    "temp_input=temp_input[0].tolist()"
   ]
  },
  {
   "cell_type": "code",
   "execution_count": 19,
   "id": "prescribed-nurse",
   "metadata": {
    "execution": {
     "iopub.execute_input": "2021-06-18T15:22:58.165609Z",
     "iopub.status.busy": "2021-06-18T15:22:58.164895Z",
     "iopub.status.idle": "2021-06-18T15:22:58.170797Z",
     "shell.execute_reply": "2021-06-18T15:22:58.171334Z",
     "shell.execute_reply.started": "2021-06-18T15:12:49.340565Z"
    },
    "papermill": {
     "duration": 0.418326,
     "end_time": "2021-06-18T15:22:58.171510",
     "exception": false,
     "start_time": "2021-06-18T15:22:57.753184",
     "status": "completed"
    },
    "tags": []
   },
   "outputs": [
    {
     "data": {
      "text/plain": [
       "[0.18618525588697019,\n",
       " 0.182417601255887,\n",
       " 0.17425431711145997,\n",
       " 0.21507064364207218,\n",
       " 0.2433281004709576,\n",
       " 0.24929354474097326,\n",
       " 0.24270016954474094,\n",
       " 0.2295133626373626,\n",
       " 0.24646781789638927,\n",
       " 0.2697017080062794,\n",
       " 0.24992152590266875,\n",
       " 0.23139716169544738,\n",
       " 0.23453687912087906,\n",
       " 0.23579279748822607,\n",
       " 0.1899529042386185,\n",
       " 0.1981161883830455,\n",
       " 0.23485087598116167,\n",
       " 0.2395604521193092,\n",
       " 0.2549450423861852,\n",
       " 0.2860282762951334,\n",
       " 0.28885400313971743,\n",
       " 0.27912086028257455,\n",
       " 0.27441128414442695,\n",
       " 0.2712715667189952,\n",
       " 0.25557297959183667,\n",
       " 0.2627943359497645,\n",
       " 0.2703296891679749,\n",
       " 0.2712715667189952,\n",
       " 0.2995290235478807,\n",
       " 0.37142858398744116,\n",
       " 0.3434850675039246,\n",
       " 0.33312403767660914,\n",
       " 0.31616953218210353,\n",
       " 0.3255886844583987,\n",
       " 0.33563577394034527,\n",
       " 0.307064376766091,\n",
       " 0.29419151020408163,\n",
       " 0.2938775698587127,\n",
       " 0.3083202386185243,\n",
       " 0.30957615698587126,\n",
       " 0.27723706122448977,\n",
       " 0.2806907189952904,\n",
       " 0.27503926530612244,\n",
       " 0.2731554160125589,\n",
       " 0.25651490109890107,\n",
       " 0.2659340533751962,\n",
       " 0.2659340533751962,\n",
       " 0.24081631397174252,\n",
       " 0.2226059466248037,\n",
       " 0.2335949576138147,\n",
       " 0.22574566405023544,\n",
       " 0.23704866562009413,\n",
       " 0.22166406907378333,\n",
       " 0.21067505808477238,\n",
       " 0.21507064364207218,\n",
       " 0.22448979591836732,\n",
       " 0.23610673783359493,\n",
       " 0.24552589010989007,\n",
       " 0.2273155227629513,\n",
       " 0.22825744427001565,\n",
       " 0.23610673783359493,\n",
       " 0.2323390894819466,\n",
       " 0.23547880690737832,\n",
       " 0.18587125902668758,\n",
       " 0.20345370172684457,\n",
       " 0.19968604709576138,\n",
       " 0.19372055259026683,\n",
       " 0.17142856514913654,\n",
       " 0.16797488226059656,\n",
       " 0.166718989010989,\n",
       " 0.16609105808477234,\n",
       " 0.16985870643642073,\n",
       " 0.18084774254317112,\n",
       " 0.1962323390894819,\n",
       " 0.19058083516483515,\n",
       " 0.1899529042386185,\n",
       " 0.18932497331240183,\n",
       " 0.2128728540031397,\n",
       " 0.22511772684458398,\n",
       " 0.21444271271585552,\n",
       " 0.21381477551020406,\n",
       " 0.23202509890109885,\n",
       " 0.23579279748822607,\n",
       " 0.2568288979591836,\n",
       " 0.23547880690737832,\n",
       " 0.2549450423861852,\n",
       " 0.25274725274725274,\n",
       " 0.252433262166405,\n",
       " 0.25117739403453687,\n",
       " 0.27817898273155417,\n",
       " 0.2816326405023547,\n",
       " 0.2784929230769231,\n",
       " 0.2769230643642072,\n",
       " 0.2954474285714286,\n",
       " 0.29733122762951336,\n",
       " 0.2775510015698587,\n",
       " 0.2690737708006279,\n",
       " 0.2806907189952904,\n",
       " 0.28445841758241763,\n",
       " 0.28477235792778643]"
      ]
     },
     "execution_count": 19,
     "metadata": {},
     "output_type": "execute_result"
    }
   ],
   "source": [
    "temp_input"
   ]
  },
  {
   "cell_type": "code",
   "execution_count": 20,
   "id": "abroad-recipient",
   "metadata": {
    "execution": {
     "iopub.execute_input": "2021-06-18T15:22:58.999135Z",
     "iopub.status.busy": "2021-06-18T15:22:58.998500Z",
     "iopub.status.idle": "2021-06-18T15:23:00.824777Z",
     "shell.execute_reply": "2021-06-18T15:23:00.824153Z",
     "shell.execute_reply.started": "2021-06-18T15:13:29.083780Z"
    },
    "papermill": {
     "duration": 2.240413,
     "end_time": "2021-06-18T15:23:00.824930",
     "exception": false,
     "start_time": "2021-06-18T15:22:58.584517",
     "status": "completed"
    },
    "tags": []
   },
   "outputs": [
    {
     "name": "stdout",
     "output_type": "stream",
     "text": [
      "[0.30159435]\n",
      "101\n",
      "1 day input [0.1824176  0.17425432 0.21507064 0.2433281  0.24929354 0.24270017\n",
      " 0.22951336 0.24646782 0.26970171 0.24992153 0.23139716 0.23453688\n",
      " 0.2357928  0.1899529  0.19811619 0.23485088 0.23956045 0.25494504\n",
      " 0.28602828 0.288854   0.27912086 0.27441128 0.27127157 0.25557298\n",
      " 0.26279434 0.27032969 0.27127157 0.29952902 0.37142858 0.34348507\n",
      " 0.33312404 0.31616953 0.32558868 0.33563577 0.30706438 0.29419151\n",
      " 0.29387757 0.30832024 0.30957616 0.27723706 0.28069072 0.27503927\n",
      " 0.27315542 0.2565149  0.26593405 0.26593405 0.24081631 0.22260595\n",
      " 0.23359496 0.22574566 0.23704867 0.22166407 0.21067506 0.21507064\n",
      " 0.2244898  0.23610674 0.24552589 0.22731552 0.22825744 0.23610674\n",
      " 0.23233909 0.23547881 0.18587126 0.2034537  0.19968605 0.19372055\n",
      " 0.17142857 0.16797488 0.16671899 0.16609106 0.16985871 0.18084774\n",
      " 0.19623234 0.19058084 0.1899529  0.18932497 0.21287285 0.22511773\n",
      " 0.21444271 0.21381478 0.2320251  0.2357928  0.2568289  0.23547881\n",
      " 0.25494504 0.25274725 0.25243326 0.25117739 0.27817898 0.28163264\n",
      " 0.27849292 0.27692306 0.29544743 0.29733123 0.277551   0.26907377\n",
      " 0.28069072 0.28445842 0.28477236 0.30159435]\n",
      "1 day output [[0.3041682]]\n",
      "2 day input [0.17425432 0.21507064 0.2433281  0.24929354 0.24270017 0.22951336\n",
      " 0.24646782 0.26970171 0.24992153 0.23139716 0.23453688 0.2357928\n",
      " 0.1899529  0.19811619 0.23485088 0.23956045 0.25494504 0.28602828\n",
      " 0.288854   0.27912086 0.27441128 0.27127157 0.25557298 0.26279434\n",
      " 0.27032969 0.27127157 0.29952902 0.37142858 0.34348507 0.33312404\n",
      " 0.31616953 0.32558868 0.33563577 0.30706438 0.29419151 0.29387757\n",
      " 0.30832024 0.30957616 0.27723706 0.28069072 0.27503927 0.27315542\n",
      " 0.2565149  0.26593405 0.26593405 0.24081631 0.22260595 0.23359496\n",
      " 0.22574566 0.23704867 0.22166407 0.21067506 0.21507064 0.2244898\n",
      " 0.23610674 0.24552589 0.22731552 0.22825744 0.23610674 0.23233909\n",
      " 0.23547881 0.18587126 0.2034537  0.19968605 0.19372055 0.17142857\n",
      " 0.16797488 0.16671899 0.16609106 0.16985871 0.18084774 0.19623234\n",
      " 0.19058084 0.1899529  0.18932497 0.21287285 0.22511773 0.21444271\n",
      " 0.21381478 0.2320251  0.2357928  0.2568289  0.23547881 0.25494504\n",
      " 0.25274725 0.25243326 0.25117739 0.27817898 0.28163264 0.27849292\n",
      " 0.27692306 0.29544743 0.29733123 0.277551   0.26907377 0.28069072\n",
      " 0.28445842 0.28477236 0.30159435 0.30416819]\n",
      "2 day output [[0.3088835]]\n",
      "3 day input [0.21507064 0.2433281  0.24929354 0.24270017 0.22951336 0.24646782\n",
      " 0.26970171 0.24992153 0.23139716 0.23453688 0.2357928  0.1899529\n",
      " 0.19811619 0.23485088 0.23956045 0.25494504 0.28602828 0.288854\n",
      " 0.27912086 0.27441128 0.27127157 0.25557298 0.26279434 0.27032969\n",
      " 0.27127157 0.29952902 0.37142858 0.34348507 0.33312404 0.31616953\n",
      " 0.32558868 0.33563577 0.30706438 0.29419151 0.29387757 0.30832024\n",
      " 0.30957616 0.27723706 0.28069072 0.27503927 0.27315542 0.2565149\n",
      " 0.26593405 0.26593405 0.24081631 0.22260595 0.23359496 0.22574566\n",
      " 0.23704867 0.22166407 0.21067506 0.21507064 0.2244898  0.23610674\n",
      " 0.24552589 0.22731552 0.22825744 0.23610674 0.23233909 0.23547881\n",
      " 0.18587126 0.2034537  0.19968605 0.19372055 0.17142857 0.16797488\n",
      " 0.16671899 0.16609106 0.16985871 0.18084774 0.19623234 0.19058084\n",
      " 0.1899529  0.18932497 0.21287285 0.22511773 0.21444271 0.21381478\n",
      " 0.2320251  0.2357928  0.2568289  0.23547881 0.25494504 0.25274725\n",
      " 0.25243326 0.25117739 0.27817898 0.28163264 0.27849292 0.27692306\n",
      " 0.29544743 0.29733123 0.277551   0.26907377 0.28069072 0.28445842\n",
      " 0.28477236 0.30159435 0.30416819 0.30888349]\n",
      "3 day output [[0.3147988]]\n",
      "4 day input [0.2433281  0.24929354 0.24270017 0.22951336 0.24646782 0.26970171\n",
      " 0.24992153 0.23139716 0.23453688 0.2357928  0.1899529  0.19811619\n",
      " 0.23485088 0.23956045 0.25494504 0.28602828 0.288854   0.27912086\n",
      " 0.27441128 0.27127157 0.25557298 0.26279434 0.27032969 0.27127157\n",
      " 0.29952902 0.37142858 0.34348507 0.33312404 0.31616953 0.32558868\n",
      " 0.33563577 0.30706438 0.29419151 0.29387757 0.30832024 0.30957616\n",
      " 0.27723706 0.28069072 0.27503927 0.27315542 0.2565149  0.26593405\n",
      " 0.26593405 0.24081631 0.22260595 0.23359496 0.22574566 0.23704867\n",
      " 0.22166407 0.21067506 0.21507064 0.2244898  0.23610674 0.24552589\n",
      " 0.22731552 0.22825744 0.23610674 0.23233909 0.23547881 0.18587126\n",
      " 0.2034537  0.19968605 0.19372055 0.17142857 0.16797488 0.16671899\n",
      " 0.16609106 0.16985871 0.18084774 0.19623234 0.19058084 0.1899529\n",
      " 0.18932497 0.21287285 0.22511773 0.21444271 0.21381478 0.2320251\n",
      " 0.2357928  0.2568289  0.23547881 0.25494504 0.25274725 0.25243326\n",
      " 0.25117739 0.27817898 0.28163264 0.27849292 0.27692306 0.29544743\n",
      " 0.29733123 0.277551   0.26907377 0.28069072 0.28445842 0.28477236\n",
      " 0.30159435 0.30416819 0.30888349 0.3147988 ]\n",
      "4 day output [[0.32133636]]\n",
      "5 day input [0.24929354 0.24270017 0.22951336 0.24646782 0.26970171 0.24992153\n",
      " 0.23139716 0.23453688 0.2357928  0.1899529  0.19811619 0.23485088\n",
      " 0.23956045 0.25494504 0.28602828 0.288854   0.27912086 0.27441128\n",
      " 0.27127157 0.25557298 0.26279434 0.27032969 0.27127157 0.29952902\n",
      " 0.37142858 0.34348507 0.33312404 0.31616953 0.32558868 0.33563577\n",
      " 0.30706438 0.29419151 0.29387757 0.30832024 0.30957616 0.27723706\n",
      " 0.28069072 0.27503927 0.27315542 0.2565149  0.26593405 0.26593405\n",
      " 0.24081631 0.22260595 0.23359496 0.22574566 0.23704867 0.22166407\n",
      " 0.21067506 0.21507064 0.2244898  0.23610674 0.24552589 0.22731552\n",
      " 0.22825744 0.23610674 0.23233909 0.23547881 0.18587126 0.2034537\n",
      " 0.19968605 0.19372055 0.17142857 0.16797488 0.16671899 0.16609106\n",
      " 0.16985871 0.18084774 0.19623234 0.19058084 0.1899529  0.18932497\n",
      " 0.21287285 0.22511773 0.21444271 0.21381478 0.2320251  0.2357928\n",
      " 0.2568289  0.23547881 0.25494504 0.25274725 0.25243326 0.25117739\n",
      " 0.27817898 0.28163264 0.27849292 0.27692306 0.29544743 0.29733123\n",
      " 0.277551   0.26907377 0.28069072 0.28445842 0.28477236 0.30159435\n",
      " 0.30416819 0.30888349 0.3147988  0.32133636]\n",
      "5 day output [[0.32819247]]\n",
      "6 day input [0.24270017 0.22951336 0.24646782 0.26970171 0.24992153 0.23139716\n",
      " 0.23453688 0.2357928  0.1899529  0.19811619 0.23485088 0.23956045\n",
      " 0.25494504 0.28602828 0.288854   0.27912086 0.27441128 0.27127157\n",
      " 0.25557298 0.26279434 0.27032969 0.27127157 0.29952902 0.37142858\n",
      " 0.34348507 0.33312404 0.31616953 0.32558868 0.33563577 0.30706438\n",
      " 0.29419151 0.29387757 0.30832024 0.30957616 0.27723706 0.28069072\n",
      " 0.27503927 0.27315542 0.2565149  0.26593405 0.26593405 0.24081631\n",
      " 0.22260595 0.23359496 0.22574566 0.23704867 0.22166407 0.21067506\n",
      " 0.21507064 0.2244898  0.23610674 0.24552589 0.22731552 0.22825744\n",
      " 0.23610674 0.23233909 0.23547881 0.18587126 0.2034537  0.19968605\n",
      " 0.19372055 0.17142857 0.16797488 0.16671899 0.16609106 0.16985871\n",
      " 0.18084774 0.19623234 0.19058084 0.1899529  0.18932497 0.21287285\n",
      " 0.22511773 0.21444271 0.21381478 0.2320251  0.2357928  0.2568289\n",
      " 0.23547881 0.25494504 0.25274725 0.25243326 0.25117739 0.27817898\n",
      " 0.28163264 0.27849292 0.27692306 0.29544743 0.29733123 0.277551\n",
      " 0.26907377 0.28069072 0.28445842 0.28477236 0.30159435 0.30416819\n",
      " 0.30888349 0.3147988  0.32133636 0.32819247]\n",
      "6 day output [[0.335221]]\n",
      "7 day input [0.22951336 0.24646782 0.26970171 0.24992153 0.23139716 0.23453688\n",
      " 0.2357928  0.1899529  0.19811619 0.23485088 0.23956045 0.25494504\n",
      " 0.28602828 0.288854   0.27912086 0.27441128 0.27127157 0.25557298\n",
      " 0.26279434 0.27032969 0.27127157 0.29952902 0.37142858 0.34348507\n",
      " 0.33312404 0.31616953 0.32558868 0.33563577 0.30706438 0.29419151\n",
      " 0.29387757 0.30832024 0.30957616 0.27723706 0.28069072 0.27503927\n",
      " 0.27315542 0.2565149  0.26593405 0.26593405 0.24081631 0.22260595\n",
      " 0.23359496 0.22574566 0.23704867 0.22166407 0.21067506 0.21507064\n",
      " 0.2244898  0.23610674 0.24552589 0.22731552 0.22825744 0.23610674\n",
      " 0.23233909 0.23547881 0.18587126 0.2034537  0.19968605 0.19372055\n",
      " 0.17142857 0.16797488 0.16671899 0.16609106 0.16985871 0.18084774\n",
      " 0.19623234 0.19058084 0.1899529  0.18932497 0.21287285 0.22511773\n",
      " 0.21444271 0.21381478 0.2320251  0.2357928  0.2568289  0.23547881\n",
      " 0.25494504 0.25274725 0.25243326 0.25117739 0.27817898 0.28163264\n",
      " 0.27849292 0.27692306 0.29544743 0.29733123 0.277551   0.26907377\n",
      " 0.28069072 0.28445842 0.28477236 0.30159435 0.30416819 0.30888349\n",
      " 0.3147988  0.32133636 0.32819247 0.33522099]\n",
      "7 day output [[0.34235093]]\n",
      "8 day input [0.24646782 0.26970171 0.24992153 0.23139716 0.23453688 0.2357928\n",
      " 0.1899529  0.19811619 0.23485088 0.23956045 0.25494504 0.28602828\n",
      " 0.288854   0.27912086 0.27441128 0.27127157 0.25557298 0.26279434\n",
      " 0.27032969 0.27127157 0.29952902 0.37142858 0.34348507 0.33312404\n",
      " 0.31616953 0.32558868 0.33563577 0.30706438 0.29419151 0.29387757\n",
      " 0.30832024 0.30957616 0.27723706 0.28069072 0.27503927 0.27315542\n",
      " 0.2565149  0.26593405 0.26593405 0.24081631 0.22260595 0.23359496\n",
      " 0.22574566 0.23704867 0.22166407 0.21067506 0.21507064 0.2244898\n",
      " 0.23610674 0.24552589 0.22731552 0.22825744 0.23610674 0.23233909\n",
      " 0.23547881 0.18587126 0.2034537  0.19968605 0.19372055 0.17142857\n",
      " 0.16797488 0.16671899 0.16609106 0.16985871 0.18084774 0.19623234\n",
      " 0.19058084 0.1899529  0.18932497 0.21287285 0.22511773 0.21444271\n",
      " 0.21381478 0.2320251  0.2357928  0.2568289  0.23547881 0.25494504\n",
      " 0.25274725 0.25243326 0.25117739 0.27817898 0.28163264 0.27849292\n",
      " 0.27692306 0.29544743 0.29733123 0.277551   0.26907377 0.28069072\n",
      " 0.28445842 0.28477236 0.30159435 0.30416819 0.30888349 0.3147988\n",
      " 0.32133636 0.32819247 0.33522099 0.34235093]\n",
      "8 day output [[0.3495427]]\n",
      "9 day input [0.26970171 0.24992153 0.23139716 0.23453688 0.2357928  0.1899529\n",
      " 0.19811619 0.23485088 0.23956045 0.25494504 0.28602828 0.288854\n",
      " 0.27912086 0.27441128 0.27127157 0.25557298 0.26279434 0.27032969\n",
      " 0.27127157 0.29952902 0.37142858 0.34348507 0.33312404 0.31616953\n",
      " 0.32558868 0.33563577 0.30706438 0.29419151 0.29387757 0.30832024\n",
      " 0.30957616 0.27723706 0.28069072 0.27503927 0.27315542 0.2565149\n",
      " 0.26593405 0.26593405 0.24081631 0.22260595 0.23359496 0.22574566\n",
      " 0.23704867 0.22166407 0.21067506 0.21507064 0.2244898  0.23610674\n",
      " 0.24552589 0.22731552 0.22825744 0.23610674 0.23233909 0.23547881\n",
      " 0.18587126 0.2034537  0.19968605 0.19372055 0.17142857 0.16797488\n",
      " 0.16671899 0.16609106 0.16985871 0.18084774 0.19623234 0.19058084\n",
      " 0.1899529  0.18932497 0.21287285 0.22511773 0.21444271 0.21381478\n",
      " 0.2320251  0.2357928  0.2568289  0.23547881 0.25494504 0.25274725\n",
      " 0.25243326 0.25117739 0.27817898 0.28163264 0.27849292 0.27692306\n",
      " 0.29544743 0.29733123 0.277551   0.26907377 0.28069072 0.28445842\n",
      " 0.28477236 0.30159435 0.30416819 0.30888349 0.3147988  0.32133636\n",
      " 0.32819247 0.33522099 0.34235093 0.34954271]\n",
      "9 day output [[0.3567678]]\n",
      "10 day input [0.24992153 0.23139716 0.23453688 0.2357928  0.1899529  0.19811619\n",
      " 0.23485088 0.23956045 0.25494504 0.28602828 0.288854   0.27912086\n",
      " 0.27441128 0.27127157 0.25557298 0.26279434 0.27032969 0.27127157\n",
      " 0.29952902 0.37142858 0.34348507 0.33312404 0.31616953 0.32558868\n",
      " 0.33563577 0.30706438 0.29419151 0.29387757 0.30832024 0.30957616\n",
      " 0.27723706 0.28069072 0.27503927 0.27315542 0.2565149  0.26593405\n",
      " 0.26593405 0.24081631 0.22260595 0.23359496 0.22574566 0.23704867\n",
      " 0.22166407 0.21067506 0.21507064 0.2244898  0.23610674 0.24552589\n",
      " 0.22731552 0.22825744 0.23610674 0.23233909 0.23547881 0.18587126\n",
      " 0.2034537  0.19968605 0.19372055 0.17142857 0.16797488 0.16671899\n",
      " 0.16609106 0.16985871 0.18084774 0.19623234 0.19058084 0.1899529\n",
      " 0.18932497 0.21287285 0.22511773 0.21444271 0.21381478 0.2320251\n",
      " 0.2357928  0.2568289  0.23547881 0.25494504 0.25274725 0.25243326\n",
      " 0.25117739 0.27817898 0.28163264 0.27849292 0.27692306 0.29544743\n",
      " 0.29733123 0.277551   0.26907377 0.28069072 0.28445842 0.28477236\n",
      " 0.30159435 0.30416819 0.30888349 0.3147988  0.32133636 0.32819247\n",
      " 0.33522099 0.34235093 0.34954271 0.3567678 ]\n",
      "10 day output [[0.3640028]]\n",
      "11 day input [0.23139716 0.23453688 0.2357928  0.1899529  0.19811619 0.23485088\n",
      " 0.23956045 0.25494504 0.28602828 0.288854   0.27912086 0.27441128\n",
      " 0.27127157 0.25557298 0.26279434 0.27032969 0.27127157 0.29952902\n",
      " 0.37142858 0.34348507 0.33312404 0.31616953 0.32558868 0.33563577\n",
      " 0.30706438 0.29419151 0.29387757 0.30832024 0.30957616 0.27723706\n",
      " 0.28069072 0.27503927 0.27315542 0.2565149  0.26593405 0.26593405\n",
      " 0.24081631 0.22260595 0.23359496 0.22574566 0.23704867 0.22166407\n",
      " 0.21067506 0.21507064 0.2244898  0.23610674 0.24552589 0.22731552\n",
      " 0.22825744 0.23610674 0.23233909 0.23547881 0.18587126 0.2034537\n",
      " 0.19968605 0.19372055 0.17142857 0.16797488 0.16671899 0.16609106\n",
      " 0.16985871 0.18084774 0.19623234 0.19058084 0.1899529  0.18932497\n",
      " 0.21287285 0.22511773 0.21444271 0.21381478 0.2320251  0.2357928\n",
      " 0.2568289  0.23547881 0.25494504 0.25274725 0.25243326 0.25117739\n",
      " 0.27817898 0.28163264 0.27849292 0.27692306 0.29544743 0.29733123\n",
      " 0.277551   0.26907377 0.28069072 0.28445842 0.28477236 0.30159435\n",
      " 0.30416819 0.30888349 0.3147988  0.32133636 0.32819247 0.33522099\n",
      " 0.34235093 0.34954271 0.3567678  0.36400279]\n",
      "11 day output [[0.3712273]]\n",
      "12 day input [0.23453688 0.2357928  0.1899529  0.19811619 0.23485088 0.23956045\n",
      " 0.25494504 0.28602828 0.288854   0.27912086 0.27441128 0.27127157\n",
      " 0.25557298 0.26279434 0.27032969 0.27127157 0.29952902 0.37142858\n",
      " 0.34348507 0.33312404 0.31616953 0.32558868 0.33563577 0.30706438\n",
      " 0.29419151 0.29387757 0.30832024 0.30957616 0.27723706 0.28069072\n",
      " 0.27503927 0.27315542 0.2565149  0.26593405 0.26593405 0.24081631\n",
      " 0.22260595 0.23359496 0.22574566 0.23704867 0.22166407 0.21067506\n",
      " 0.21507064 0.2244898  0.23610674 0.24552589 0.22731552 0.22825744\n",
      " 0.23610674 0.23233909 0.23547881 0.18587126 0.2034537  0.19968605\n",
      " 0.19372055 0.17142857 0.16797488 0.16671899 0.16609106 0.16985871\n",
      " 0.18084774 0.19623234 0.19058084 0.1899529  0.18932497 0.21287285\n",
      " 0.22511773 0.21444271 0.21381478 0.2320251  0.2357928  0.2568289\n",
      " 0.23547881 0.25494504 0.25274725 0.25243326 0.25117739 0.27817898\n",
      " 0.28163264 0.27849292 0.27692306 0.29544743 0.29733123 0.277551\n",
      " 0.26907377 0.28069072 0.28445842 0.28477236 0.30159435 0.30416819\n",
      " 0.30888349 0.3147988  0.32133636 0.32819247 0.33522099 0.34235093\n",
      " 0.34954271 0.3567678  0.36400279 0.37122729]\n",
      "12 day output [[0.37842396]]\n",
      "13 day input [0.2357928  0.1899529  0.19811619 0.23485088 0.23956045 0.25494504\n",
      " 0.28602828 0.288854   0.27912086 0.27441128 0.27127157 0.25557298\n",
      " 0.26279434 0.27032969 0.27127157 0.29952902 0.37142858 0.34348507\n",
      " 0.33312404 0.31616953 0.32558868 0.33563577 0.30706438 0.29419151\n",
      " 0.29387757 0.30832024 0.30957616 0.27723706 0.28069072 0.27503927\n",
      " 0.27315542 0.2565149  0.26593405 0.26593405 0.24081631 0.22260595\n",
      " 0.23359496 0.22574566 0.23704867 0.22166407 0.21067506 0.21507064\n",
      " 0.2244898  0.23610674 0.24552589 0.22731552 0.22825744 0.23610674\n",
      " 0.23233909 0.23547881 0.18587126 0.2034537  0.19968605 0.19372055\n",
      " 0.17142857 0.16797488 0.16671899 0.16609106 0.16985871 0.18084774\n",
      " 0.19623234 0.19058084 0.1899529  0.18932497 0.21287285 0.22511773\n",
      " 0.21444271 0.21381478 0.2320251  0.2357928  0.2568289  0.23547881\n",
      " 0.25494504 0.25274725 0.25243326 0.25117739 0.27817898 0.28163264\n",
      " 0.27849292 0.27692306 0.29544743 0.29733123 0.277551   0.26907377\n",
      " 0.28069072 0.28445842 0.28477236 0.30159435 0.30416819 0.30888349\n",
      " 0.3147988  0.32133636 0.32819247 0.33522099 0.34235093 0.34954271\n",
      " 0.3567678  0.36400279 0.37122729 0.37842396]\n",
      "13 day output [[0.38557848]]\n",
      "14 day input [0.1899529  0.19811619 0.23485088 0.23956045 0.25494504 0.28602828\n",
      " 0.288854   0.27912086 0.27441128 0.27127157 0.25557298 0.26279434\n",
      " 0.27032969 0.27127157 0.29952902 0.37142858 0.34348507 0.33312404\n",
      " 0.31616953 0.32558868 0.33563577 0.30706438 0.29419151 0.29387757\n",
      " 0.30832024 0.30957616 0.27723706 0.28069072 0.27503927 0.27315542\n",
      " 0.2565149  0.26593405 0.26593405 0.24081631 0.22260595 0.23359496\n",
      " 0.22574566 0.23704867 0.22166407 0.21067506 0.21507064 0.2244898\n",
      " 0.23610674 0.24552589 0.22731552 0.22825744 0.23610674 0.23233909\n",
      " 0.23547881 0.18587126 0.2034537  0.19968605 0.19372055 0.17142857\n",
      " 0.16797488 0.16671899 0.16609106 0.16985871 0.18084774 0.19623234\n",
      " 0.19058084 0.1899529  0.18932497 0.21287285 0.22511773 0.21444271\n",
      " 0.21381478 0.2320251  0.2357928  0.2568289  0.23547881 0.25494504\n",
      " 0.25274725 0.25243326 0.25117739 0.27817898 0.28163264 0.27849292\n",
      " 0.27692306 0.29544743 0.29733123 0.277551   0.26907377 0.28069072\n",
      " 0.28445842 0.28477236 0.30159435 0.30416819 0.30888349 0.3147988\n",
      " 0.32133636 0.32819247 0.33522099 0.34235093 0.34954271 0.3567678\n",
      " 0.36400279 0.37122729 0.37842396 0.38557848]\n",
      "14 day output [[0.3926796]]\n",
      "15 day input [0.19811619 0.23485088 0.23956045 0.25494504 0.28602828 0.288854\n",
      " 0.27912086 0.27441128 0.27127157 0.25557298 0.26279434 0.27032969\n",
      " 0.27127157 0.29952902 0.37142858 0.34348507 0.33312404 0.31616953\n",
      " 0.32558868 0.33563577 0.30706438 0.29419151 0.29387757 0.30832024\n",
      " 0.30957616 0.27723706 0.28069072 0.27503927 0.27315542 0.2565149\n",
      " 0.26593405 0.26593405 0.24081631 0.22260595 0.23359496 0.22574566\n",
      " 0.23704867 0.22166407 0.21067506 0.21507064 0.2244898  0.23610674\n",
      " 0.24552589 0.22731552 0.22825744 0.23610674 0.23233909 0.23547881\n",
      " 0.18587126 0.2034537  0.19968605 0.19372055 0.17142857 0.16797488\n",
      " 0.16671899 0.16609106 0.16985871 0.18084774 0.19623234 0.19058084\n",
      " 0.1899529  0.18932497 0.21287285 0.22511773 0.21444271 0.21381478\n",
      " 0.2320251  0.2357928  0.2568289  0.23547881 0.25494504 0.25274725\n",
      " 0.25243326 0.25117739 0.27817898 0.28163264 0.27849292 0.27692306\n",
      " 0.29544743 0.29733123 0.277551   0.26907377 0.28069072 0.28445842\n",
      " 0.28477236 0.30159435 0.30416819 0.30888349 0.3147988  0.32133636\n",
      " 0.32819247 0.33522099 0.34235093 0.34954271 0.3567678  0.36400279\n",
      " 0.37122729 0.37842396 0.38557848 0.3926796 ]\n",
      "15 day output [[0.3997189]]\n",
      "16 day input [0.23485088 0.23956045 0.25494504 0.28602828 0.288854   0.27912086\n",
      " 0.27441128 0.27127157 0.25557298 0.26279434 0.27032969 0.27127157\n",
      " 0.29952902 0.37142858 0.34348507 0.33312404 0.31616953 0.32558868\n",
      " 0.33563577 0.30706438 0.29419151 0.29387757 0.30832024 0.30957616\n",
      " 0.27723706 0.28069072 0.27503927 0.27315542 0.2565149  0.26593405\n",
      " 0.26593405 0.24081631 0.22260595 0.23359496 0.22574566 0.23704867\n",
      " 0.22166407 0.21067506 0.21507064 0.2244898  0.23610674 0.24552589\n",
      " 0.22731552 0.22825744 0.23610674 0.23233909 0.23547881 0.18587126\n",
      " 0.2034537  0.19968605 0.19372055 0.17142857 0.16797488 0.16671899\n",
      " 0.16609106 0.16985871 0.18084774 0.19623234 0.19058084 0.1899529\n",
      " 0.18932497 0.21287285 0.22511773 0.21444271 0.21381478 0.2320251\n",
      " 0.2357928  0.2568289  0.23547881 0.25494504 0.25274725 0.25243326\n",
      " 0.25117739 0.27817898 0.28163264 0.27849292 0.27692306 0.29544743\n",
      " 0.29733123 0.277551   0.26907377 0.28069072 0.28445842 0.28477236\n",
      " 0.30159435 0.30416819 0.30888349 0.3147988  0.32133636 0.32819247\n",
      " 0.33522099 0.34235093 0.34954271 0.3567678  0.36400279 0.37122729\n",
      " 0.37842396 0.38557848 0.3926796  0.39971891]\n",
      "16 day output [[0.4066905]]\n",
      "17 day input [0.23956045 0.25494504 0.28602828 0.288854   0.27912086 0.27441128\n",
      " 0.27127157 0.25557298 0.26279434 0.27032969 0.27127157 0.29952902\n",
      " 0.37142858 0.34348507 0.33312404 0.31616953 0.32558868 0.33563577\n",
      " 0.30706438 0.29419151 0.29387757 0.30832024 0.30957616 0.27723706\n",
      " 0.28069072 0.27503927 0.27315542 0.2565149  0.26593405 0.26593405\n",
      " 0.24081631 0.22260595 0.23359496 0.22574566 0.23704867 0.22166407\n",
      " 0.21067506 0.21507064 0.2244898  0.23610674 0.24552589 0.22731552\n",
      " 0.22825744 0.23610674 0.23233909 0.23547881 0.18587126 0.2034537\n",
      " 0.19968605 0.19372055 0.17142857 0.16797488 0.16671899 0.16609106\n",
      " 0.16985871 0.18084774 0.19623234 0.19058084 0.1899529  0.18932497\n",
      " 0.21287285 0.22511773 0.21444271 0.21381478 0.2320251  0.2357928\n",
      " 0.2568289  0.23547881 0.25494504 0.25274725 0.25243326 0.25117739\n",
      " 0.27817898 0.28163264 0.27849292 0.27692306 0.29544743 0.29733123\n",
      " 0.277551   0.26907377 0.28069072 0.28445842 0.28477236 0.30159435\n",
      " 0.30416819 0.30888349 0.3147988  0.32133636 0.32819247 0.33522099\n",
      " 0.34235093 0.34954271 0.3567678  0.36400279 0.37122729 0.37842396\n",
      " 0.38557848 0.3926796  0.39971891 0.40669051]\n",
      "17 day output [[0.4135903]]\n",
      "18 day input [0.25494504 0.28602828 0.288854   0.27912086 0.27441128 0.27127157\n",
      " 0.25557298 0.26279434 0.27032969 0.27127157 0.29952902 0.37142858\n",
      " 0.34348507 0.33312404 0.31616953 0.32558868 0.33563577 0.30706438\n",
      " 0.29419151 0.29387757 0.30832024 0.30957616 0.27723706 0.28069072\n",
      " 0.27503927 0.27315542 0.2565149  0.26593405 0.26593405 0.24081631\n",
      " 0.22260595 0.23359496 0.22574566 0.23704867 0.22166407 0.21067506\n",
      " 0.21507064 0.2244898  0.23610674 0.24552589 0.22731552 0.22825744\n",
      " 0.23610674 0.23233909 0.23547881 0.18587126 0.2034537  0.19968605\n",
      " 0.19372055 0.17142857 0.16797488 0.16671899 0.16609106 0.16985871\n",
      " 0.18084774 0.19623234 0.19058084 0.1899529  0.18932497 0.21287285\n",
      " 0.22511773 0.21444271 0.21381478 0.2320251  0.2357928  0.2568289\n",
      " 0.23547881 0.25494504 0.25274725 0.25243326 0.25117739 0.27817898\n",
      " 0.28163264 0.27849292 0.27692306 0.29544743 0.29733123 0.277551\n",
      " 0.26907377 0.28069072 0.28445842 0.28477236 0.30159435 0.30416819\n",
      " 0.30888349 0.3147988  0.32133636 0.32819247 0.33522099 0.34235093\n",
      " 0.34954271 0.3567678  0.36400279 0.37122729 0.37842396 0.38557848\n",
      " 0.3926796  0.39971891 0.40669051 0.41359031]\n",
      "18 day output [[0.42041612]]\n",
      "19 day input [0.28602828 0.288854   0.27912086 0.27441128 0.27127157 0.25557298\n",
      " 0.26279434 0.27032969 0.27127157 0.29952902 0.37142858 0.34348507\n",
      " 0.33312404 0.31616953 0.32558868 0.33563577 0.30706438 0.29419151\n",
      " 0.29387757 0.30832024 0.30957616 0.27723706 0.28069072 0.27503927\n",
      " 0.27315542 0.2565149  0.26593405 0.26593405 0.24081631 0.22260595\n",
      " 0.23359496 0.22574566 0.23704867 0.22166407 0.21067506 0.21507064\n",
      " 0.2244898  0.23610674 0.24552589 0.22731552 0.22825744 0.23610674\n",
      " 0.23233909 0.23547881 0.18587126 0.2034537  0.19968605 0.19372055\n",
      " 0.17142857 0.16797488 0.16671899 0.16609106 0.16985871 0.18084774\n",
      " 0.19623234 0.19058084 0.1899529  0.18932497 0.21287285 0.22511773\n",
      " 0.21444271 0.21381478 0.2320251  0.2357928  0.2568289  0.23547881\n",
      " 0.25494504 0.25274725 0.25243326 0.25117739 0.27817898 0.28163264\n",
      " 0.27849292 0.27692306 0.29544743 0.29733123 0.277551   0.26907377\n",
      " 0.28069072 0.28445842 0.28477236 0.30159435 0.30416819 0.30888349\n",
      " 0.3147988  0.32133636 0.32819247 0.33522099 0.34235093 0.34954271\n",
      " 0.3567678  0.36400279 0.37122729 0.37842396 0.38557848 0.3926796\n",
      " 0.39971891 0.40669051 0.41359031 0.42041612]\n",
      "19 day output [[0.4271675]]\n",
      "20 day input [0.288854   0.27912086 0.27441128 0.27127157 0.25557298 0.26279434\n",
      " 0.27032969 0.27127157 0.29952902 0.37142858 0.34348507 0.33312404\n",
      " 0.31616953 0.32558868 0.33563577 0.30706438 0.29419151 0.29387757\n",
      " 0.30832024 0.30957616 0.27723706 0.28069072 0.27503927 0.27315542\n",
      " 0.2565149  0.26593405 0.26593405 0.24081631 0.22260595 0.23359496\n",
      " 0.22574566 0.23704867 0.22166407 0.21067506 0.21507064 0.2244898\n",
      " 0.23610674 0.24552589 0.22731552 0.22825744 0.23610674 0.23233909\n",
      " 0.23547881 0.18587126 0.2034537  0.19968605 0.19372055 0.17142857\n",
      " 0.16797488 0.16671899 0.16609106 0.16985871 0.18084774 0.19623234\n",
      " 0.19058084 0.1899529  0.18932497 0.21287285 0.22511773 0.21444271\n",
      " 0.21381478 0.2320251  0.2357928  0.2568289  0.23547881 0.25494504\n",
      " 0.25274725 0.25243326 0.25117739 0.27817898 0.28163264 0.27849292\n",
      " 0.27692306 0.29544743 0.29733123 0.277551   0.26907377 0.28069072\n",
      " 0.28445842 0.28477236 0.30159435 0.30416819 0.30888349 0.3147988\n",
      " 0.32133636 0.32819247 0.33522099 0.34235093 0.34954271 0.3567678\n",
      " 0.36400279 0.37122729 0.37842396 0.38557848 0.3926796  0.39971891\n",
      " 0.40669051 0.41359031 0.42041612 0.42716751]\n",
      "20 day output [[0.43384442]]\n",
      "21 day input [0.27912086 0.27441128 0.27127157 0.25557298 0.26279434 0.27032969\n",
      " 0.27127157 0.29952902 0.37142858 0.34348507 0.33312404 0.31616953\n",
      " 0.32558868 0.33563577 0.30706438 0.29419151 0.29387757 0.30832024\n",
      " 0.30957616 0.27723706 0.28069072 0.27503927 0.27315542 0.2565149\n",
      " 0.26593405 0.26593405 0.24081631 0.22260595 0.23359496 0.22574566\n",
      " 0.23704867 0.22166407 0.21067506 0.21507064 0.2244898  0.23610674\n",
      " 0.24552589 0.22731552 0.22825744 0.23610674 0.23233909 0.23547881\n",
      " 0.18587126 0.2034537  0.19968605 0.19372055 0.17142857 0.16797488\n",
      " 0.16671899 0.16609106 0.16985871 0.18084774 0.19623234 0.19058084\n",
      " 0.1899529  0.18932497 0.21287285 0.22511773 0.21444271 0.21381478\n",
      " 0.2320251  0.2357928  0.2568289  0.23547881 0.25494504 0.25274725\n",
      " 0.25243326 0.25117739 0.27817898 0.28163264 0.27849292 0.27692306\n",
      " 0.29544743 0.29733123 0.277551   0.26907377 0.28069072 0.28445842\n",
      " 0.28477236 0.30159435 0.30416819 0.30888349 0.3147988  0.32133636\n",
      " 0.32819247 0.33522099 0.34235093 0.34954271 0.3567678  0.36400279\n",
      " 0.37122729 0.37842396 0.38557848 0.3926796  0.39971891 0.40669051\n",
      " 0.41359031 0.42041612 0.42716751 0.43384442]\n",
      "21 day output [[0.44044834]]\n",
      "22 day input [0.27441128 0.27127157 0.25557298 0.26279434 0.27032969 0.27127157\n",
      " 0.29952902 0.37142858 0.34348507 0.33312404 0.31616953 0.32558868\n",
      " 0.33563577 0.30706438 0.29419151 0.29387757 0.30832024 0.30957616\n",
      " 0.27723706 0.28069072 0.27503927 0.27315542 0.2565149  0.26593405\n",
      " 0.26593405 0.24081631 0.22260595 0.23359496 0.22574566 0.23704867\n",
      " 0.22166407 0.21067506 0.21507064 0.2244898  0.23610674 0.24552589\n",
      " 0.22731552 0.22825744 0.23610674 0.23233909 0.23547881 0.18587126\n",
      " 0.2034537  0.19968605 0.19372055 0.17142857 0.16797488 0.16671899\n",
      " 0.16609106 0.16985871 0.18084774 0.19623234 0.19058084 0.1899529\n",
      " 0.18932497 0.21287285 0.22511773 0.21444271 0.21381478 0.2320251\n",
      " 0.2357928  0.2568289  0.23547881 0.25494504 0.25274725 0.25243326\n",
      " 0.25117739 0.27817898 0.28163264 0.27849292 0.27692306 0.29544743\n",
      " 0.29733123 0.277551   0.26907377 0.28069072 0.28445842 0.28477236\n",
      " 0.30159435 0.30416819 0.30888349 0.3147988  0.32133636 0.32819247\n",
      " 0.33522099 0.34235093 0.34954271 0.3567678  0.36400279 0.37122729\n",
      " 0.37842396 0.38557848 0.3926796  0.39971891 0.40669051 0.41359031\n",
      " 0.42041612 0.42716751 0.43384442 0.44044834]\n",
      "22 day output [[0.44698152]]\n",
      "23 day input [0.27127157 0.25557298 0.26279434 0.27032969 0.27127157 0.29952902\n",
      " 0.37142858 0.34348507 0.33312404 0.31616953 0.32558868 0.33563577\n",
      " 0.30706438 0.29419151 0.29387757 0.30832024 0.30957616 0.27723706\n",
      " 0.28069072 0.27503927 0.27315542 0.2565149  0.26593405 0.26593405\n",
      " 0.24081631 0.22260595 0.23359496 0.22574566 0.23704867 0.22166407\n",
      " 0.21067506 0.21507064 0.2244898  0.23610674 0.24552589 0.22731552\n",
      " 0.22825744 0.23610674 0.23233909 0.23547881 0.18587126 0.2034537\n",
      " 0.19968605 0.19372055 0.17142857 0.16797488 0.16671899 0.16609106\n",
      " 0.16985871 0.18084774 0.19623234 0.19058084 0.1899529  0.18932497\n",
      " 0.21287285 0.22511773 0.21444271 0.21381478 0.2320251  0.2357928\n",
      " 0.2568289  0.23547881 0.25494504 0.25274725 0.25243326 0.25117739\n",
      " 0.27817898 0.28163264 0.27849292 0.27692306 0.29544743 0.29733123\n",
      " 0.277551   0.26907377 0.28069072 0.28445842 0.28477236 0.30159435\n",
      " 0.30416819 0.30888349 0.3147988  0.32133636 0.32819247 0.33522099\n",
      " 0.34235093 0.34954271 0.3567678  0.36400279 0.37122729 0.37842396\n",
      " 0.38557848 0.3926796  0.39971891 0.40669051 0.41359031 0.42041612\n",
      " 0.42716751 0.43384442 0.44044834 0.44698152]\n",
      "23 day output [[0.45344636]]\n",
      "24 day input [0.25557298 0.26279434 0.27032969 0.27127157 0.29952902 0.37142858\n",
      " 0.34348507 0.33312404 0.31616953 0.32558868 0.33563577 0.30706438\n",
      " 0.29419151 0.29387757 0.30832024 0.30957616 0.27723706 0.28069072\n",
      " 0.27503927 0.27315542 0.2565149  0.26593405 0.26593405 0.24081631\n",
      " 0.22260595 0.23359496 0.22574566 0.23704867 0.22166407 0.21067506\n",
      " 0.21507064 0.2244898  0.23610674 0.24552589 0.22731552 0.22825744\n",
      " 0.23610674 0.23233909 0.23547881 0.18587126 0.2034537  0.19968605\n",
      " 0.19372055 0.17142857 0.16797488 0.16671899 0.16609106 0.16985871\n",
      " 0.18084774 0.19623234 0.19058084 0.1899529  0.18932497 0.21287285\n",
      " 0.22511773 0.21444271 0.21381478 0.2320251  0.2357928  0.2568289\n",
      " 0.23547881 0.25494504 0.25274725 0.25243326 0.25117739 0.27817898\n",
      " 0.28163264 0.27849292 0.27692306 0.29544743 0.29733123 0.277551\n",
      " 0.26907377 0.28069072 0.28445842 0.28477236 0.30159435 0.30416819\n",
      " 0.30888349 0.3147988  0.32133636 0.32819247 0.33522099 0.34235093\n",
      " 0.34954271 0.3567678  0.36400279 0.37122729 0.37842396 0.38557848\n",
      " 0.3926796  0.39971891 0.40669051 0.41359031 0.42041612 0.42716751\n",
      " 0.43384442 0.44044834 0.44698152 0.45344636]\n",
      "24 day output [[0.45984608]]\n",
      "25 day input [0.26279434 0.27032969 0.27127157 0.29952902 0.37142858 0.34348507\n",
      " 0.33312404 0.31616953 0.32558868 0.33563577 0.30706438 0.29419151\n",
      " 0.29387757 0.30832024 0.30957616 0.27723706 0.28069072 0.27503927\n",
      " 0.27315542 0.2565149  0.26593405 0.26593405 0.24081631 0.22260595\n",
      " 0.23359496 0.22574566 0.23704867 0.22166407 0.21067506 0.21507064\n",
      " 0.2244898  0.23610674 0.24552589 0.22731552 0.22825744 0.23610674\n",
      " 0.23233909 0.23547881 0.18587126 0.2034537  0.19968605 0.19372055\n",
      " 0.17142857 0.16797488 0.16671899 0.16609106 0.16985871 0.18084774\n",
      " 0.19623234 0.19058084 0.1899529  0.18932497 0.21287285 0.22511773\n",
      " 0.21444271 0.21381478 0.2320251  0.2357928  0.2568289  0.23547881\n",
      " 0.25494504 0.25274725 0.25243326 0.25117739 0.27817898 0.28163264\n",
      " 0.27849292 0.27692306 0.29544743 0.29733123 0.277551   0.26907377\n",
      " 0.28069072 0.28445842 0.28477236 0.30159435 0.30416819 0.30888349\n",
      " 0.3147988  0.32133636 0.32819247 0.33522099 0.34235093 0.34954271\n",
      " 0.3567678  0.36400279 0.37122729 0.37842396 0.38557848 0.3926796\n",
      " 0.39971891 0.40669051 0.41359031 0.42041612 0.42716751 0.43384442\n",
      " 0.44044834 0.44698152 0.45344636 0.45984608]\n",
      "25 day output [[0.4661838]]\n",
      "26 day input [0.27032969 0.27127157 0.29952902 0.37142858 0.34348507 0.33312404\n",
      " 0.31616953 0.32558868 0.33563577 0.30706438 0.29419151 0.29387757\n",
      " 0.30832024 0.30957616 0.27723706 0.28069072 0.27503927 0.27315542\n",
      " 0.2565149  0.26593405 0.26593405 0.24081631 0.22260595 0.23359496\n",
      " 0.22574566 0.23704867 0.22166407 0.21067506 0.21507064 0.2244898\n",
      " 0.23610674 0.24552589 0.22731552 0.22825744 0.23610674 0.23233909\n",
      " 0.23547881 0.18587126 0.2034537  0.19968605 0.19372055 0.17142857\n",
      " 0.16797488 0.16671899 0.16609106 0.16985871 0.18084774 0.19623234\n",
      " 0.19058084 0.1899529  0.18932497 0.21287285 0.22511773 0.21444271\n",
      " 0.21381478 0.2320251  0.2357928  0.2568289  0.23547881 0.25494504\n",
      " 0.25274725 0.25243326 0.25117739 0.27817898 0.28163264 0.27849292\n",
      " 0.27692306 0.29544743 0.29733123 0.277551   0.26907377 0.28069072\n",
      " 0.28445842 0.28477236 0.30159435 0.30416819 0.30888349 0.3147988\n",
      " 0.32133636 0.32819247 0.33522099 0.34235093 0.34954271 0.3567678\n",
      " 0.36400279 0.37122729 0.37842396 0.38557848 0.3926796  0.39971891\n",
      " 0.40669051 0.41359031 0.42041612 0.42716751 0.43384442 0.44044834\n",
      " 0.44698152 0.45344636 0.45984608 0.46618381]\n",
      "26 day output [[0.4724634]]\n",
      "27 day input [0.27127157 0.29952902 0.37142858 0.34348507 0.33312404 0.31616953\n",
      " 0.32558868 0.33563577 0.30706438 0.29419151 0.29387757 0.30832024\n",
      " 0.30957616 0.27723706 0.28069072 0.27503927 0.27315542 0.2565149\n",
      " 0.26593405 0.26593405 0.24081631 0.22260595 0.23359496 0.22574566\n",
      " 0.23704867 0.22166407 0.21067506 0.21507064 0.2244898  0.23610674\n",
      " 0.24552589 0.22731552 0.22825744 0.23610674 0.23233909 0.23547881\n",
      " 0.18587126 0.2034537  0.19968605 0.19372055 0.17142857 0.16797488\n",
      " 0.16671899 0.16609106 0.16985871 0.18084774 0.19623234 0.19058084\n",
      " 0.1899529  0.18932497 0.21287285 0.22511773 0.21444271 0.21381478\n",
      " 0.2320251  0.2357928  0.2568289  0.23547881 0.25494504 0.25274725\n",
      " 0.25243326 0.25117739 0.27817898 0.28163264 0.27849292 0.27692306\n",
      " 0.29544743 0.29733123 0.277551   0.26907377 0.28069072 0.28445842\n",
      " 0.28477236 0.30159435 0.30416819 0.30888349 0.3147988  0.32133636\n",
      " 0.32819247 0.33522099 0.34235093 0.34954271 0.3567678  0.36400279\n",
      " 0.37122729 0.37842396 0.38557848 0.3926796  0.39971891 0.40669051\n",
      " 0.41359031 0.42041612 0.42716751 0.43384442 0.44044834 0.44698152\n",
      " 0.45344636 0.45984608 0.46618381 0.4724634 ]\n",
      "27 day output [[0.47868818]]\n",
      "28 day input [0.29952902 0.37142858 0.34348507 0.33312404 0.31616953 0.32558868\n",
      " 0.33563577 0.30706438 0.29419151 0.29387757 0.30832024 0.30957616\n",
      " 0.27723706 0.28069072 0.27503927 0.27315542 0.2565149  0.26593405\n",
      " 0.26593405 0.24081631 0.22260595 0.23359496 0.22574566 0.23704867\n",
      " 0.22166407 0.21067506 0.21507064 0.2244898  0.23610674 0.24552589\n",
      " 0.22731552 0.22825744 0.23610674 0.23233909 0.23547881 0.18587126\n",
      " 0.2034537  0.19968605 0.19372055 0.17142857 0.16797488 0.16671899\n",
      " 0.16609106 0.16985871 0.18084774 0.19623234 0.19058084 0.1899529\n",
      " 0.18932497 0.21287285 0.22511773 0.21444271 0.21381478 0.2320251\n",
      " 0.2357928  0.2568289  0.23547881 0.25494504 0.25274725 0.25243326\n",
      " 0.25117739 0.27817898 0.28163264 0.27849292 0.27692306 0.29544743\n",
      " 0.29733123 0.277551   0.26907377 0.28069072 0.28445842 0.28477236\n",
      " 0.30159435 0.30416819 0.30888349 0.3147988  0.32133636 0.32819247\n",
      " 0.33522099 0.34235093 0.34954271 0.3567678  0.36400279 0.37122729\n",
      " 0.37842396 0.38557848 0.3926796  0.39971891 0.40669051 0.41359031\n",
      " 0.42041612 0.42716751 0.43384442 0.44044834 0.44698152 0.45344636\n",
      " 0.45984608 0.46618381 0.4724634  0.47868818]\n",
      "28 day output [[0.4848621]]\n",
      "29 day input [0.37142858 0.34348507 0.33312404 0.31616953 0.32558868 0.33563577\n",
      " 0.30706438 0.29419151 0.29387757 0.30832024 0.30957616 0.27723706\n",
      " 0.28069072 0.27503927 0.27315542 0.2565149  0.26593405 0.26593405\n",
      " 0.24081631 0.22260595 0.23359496 0.22574566 0.23704867 0.22166407\n",
      " 0.21067506 0.21507064 0.2244898  0.23610674 0.24552589 0.22731552\n",
      " 0.22825744 0.23610674 0.23233909 0.23547881 0.18587126 0.2034537\n",
      " 0.19968605 0.19372055 0.17142857 0.16797488 0.16671899 0.16609106\n",
      " 0.16985871 0.18084774 0.19623234 0.19058084 0.1899529  0.18932497\n",
      " 0.21287285 0.22511773 0.21444271 0.21381478 0.2320251  0.2357928\n",
      " 0.2568289  0.23547881 0.25494504 0.25274725 0.25243326 0.25117739\n",
      " 0.27817898 0.28163264 0.27849292 0.27692306 0.29544743 0.29733123\n",
      " 0.277551   0.26907377 0.28069072 0.28445842 0.28477236 0.30159435\n",
      " 0.30416819 0.30888349 0.3147988  0.32133636 0.32819247 0.33522099\n",
      " 0.34235093 0.34954271 0.3567678  0.36400279 0.37122729 0.37842396\n",
      " 0.38557848 0.3926796  0.39971891 0.40669051 0.41359031 0.42041612\n",
      " 0.42716751 0.43384442 0.44044834 0.44698152 0.45344636 0.45984608\n",
      " 0.46618381 0.4724634  0.47868818 0.48486209]\n",
      "29 day output [[0.4909888]]\n",
      "[[0.3015943467617035], [0.3041681945323944], [0.3088834881782532], [0.3147988021373749], [0.3213363587856293], [0.32819247245788574], [0.33522099256515503], [0.34235092997550964], [0.3495427072048187], [0.35676780343055725], [0.3640027940273285], [0.37122729420661926], [0.3784239590167999], [0.3855784833431244], [0.3926796019077301], [0.39971891045570374], [0.4066905081272125], [0.41359031200408936], [0.42041611671447754], [0.42716750502586365], [0.4338444173336029], [0.4404483437538147], [0.4469815194606781], [0.4534463584423065], [0.4598460793495178], [0.4661838114261627], [0.4724633991718292], [0.47868818044662476], [0.4848620891571045], [0.4909887909889221]]\n"
     ]
    }
   ],
   "source": [
    "from numpy import array\n",
    "\n",
    "lst_output=[]\n",
    "n_steps=100\n",
    "i=0\n",
    "while(i<30):\n",
    "    \n",
    "    if(len(temp_input)>100):\n",
    "        #print(temp_input)\n",
    "        x_input=np.array(temp_input[1:])\n",
    "        print(\"{} day input {}\".format(i,x_input))\n",
    "        x_input=x_input.reshape(1,-1)\n",
    "        x_input = x_input.reshape((1, n_steps, 1))\n",
    "        #print(x_input)\n",
    "        yhat = model.predict(x_input, verbose=0)\n",
    "        print(\"{} day output {}\".format(i,yhat))\n",
    "        temp_input.extend(yhat[0].tolist())\n",
    "        temp_input=temp_input[1:]\n",
    "        #print(temp_input)\n",
    "        lst_output.extend(yhat.tolist())\n",
    "        i=i+1\n",
    "    else:\n",
    "        x_input = x_input.reshape((1, n_steps,1))\n",
    "        yhat = model.predict(x_input, verbose=0)\n",
    "        print(yhat[0])\n",
    "        temp_input.extend(yhat[0].tolist())\n",
    "        print(len(temp_input))\n",
    "        lst_output.extend(yhat.tolist())\n",
    "        i=i+1\n",
    "    \n",
    "\n",
    "print(lst_output)"
   ]
  },
  {
   "cell_type": "code",
   "execution_count": 21,
   "id": "interim-cleaners",
   "metadata": {
    "execution": {
     "iopub.execute_input": "2021-06-18T15:23:01.690898Z",
     "iopub.status.busy": "2021-06-18T15:23:01.690174Z",
     "iopub.status.idle": "2021-06-18T15:23:01.693198Z",
     "shell.execute_reply": "2021-06-18T15:23:01.692710Z",
     "shell.execute_reply.started": "2021-06-18T15:13:56.081684Z"
    },
    "papermill": {
     "duration": 0.456351,
     "end_time": "2021-06-18T15:23:01.693357",
     "exception": false,
     "start_time": "2021-06-18T15:23:01.237006",
     "status": "completed"
    },
    "tags": []
   },
   "outputs": [],
   "source": [
    "day_new=np.arange(1,101)\n",
    "day_pred=np.arange(101,131)"
   ]
  },
  {
   "cell_type": "code",
   "execution_count": 22,
   "id": "preliminary-director",
   "metadata": {
    "execution": {
     "iopub.execute_input": "2021-06-18T15:23:02.546168Z",
     "iopub.status.busy": "2021-06-18T15:23:02.545207Z",
     "iopub.status.idle": "2021-06-18T15:23:02.549930Z",
     "shell.execute_reply": "2021-06-18T15:23:02.549401Z",
     "shell.execute_reply.started": "2021-06-18T15:16:17.900967Z"
    },
    "papermill": {
     "duration": 0.440554,
     "end_time": "2021-06-18T15:23:02.550085",
     "exception": false,
     "start_time": "2021-06-18T15:23:02.109531",
     "status": "completed"
    },
    "tags": []
   },
   "outputs": [
    {
     "data": {
      "text/plain": [
       "1232"
      ]
     },
     "execution_count": 22,
     "metadata": {},
     "output_type": "execute_result"
    }
   ],
   "source": [
    "len(new_df)"
   ]
  },
  {
   "cell_type": "code",
   "execution_count": 23,
   "id": "automotive-balance",
   "metadata": {
    "execution": {
     "iopub.execute_input": "2021-06-18T15:23:03.417950Z",
     "iopub.status.busy": "2021-06-18T15:23:03.417235Z",
     "iopub.status.idle": "2021-06-18T15:23:03.573853Z",
     "shell.execute_reply": "2021-06-18T15:23:03.573020Z",
     "shell.execute_reply.started": "2021-06-18T15:16:29.121248Z"
    },
    "papermill": {
     "duration": 0.597169,
     "end_time": "2021-06-18T15:23:03.574007",
     "exception": false,
     "start_time": "2021-06-18T15:23:02.976838",
     "status": "completed"
    },
    "tags": []
   },
   "outputs": [
    {
     "data": {
      "text/plain": [
       "[<matplotlib.lines.Line2D at 0x7f5d2ead3a10>]"
      ]
     },
     "execution_count": 23,
     "metadata": {},
     "output_type": "execute_result"
    },
    {
     "data": {
      "image/png": "[encoded data removed]",
      "text/plain": [
       "<Figure size 432x288 with 1 Axes>"
      ]
     },
     "metadata": {
      "needs_background": "light"
     },
     "output_type": "display_data"
    }
   ],
   "source": [
    "plt.plot(day_new,scaler.inverse_transform(new_df[1132:]))\n",
    "plt.plot(day_pred,scaler.inverse_transform(lst_output))"
   ]
  },
  {
   "cell_type": "code",
   "execution_count": 24,
   "id": "peaceful-cemetery",
   "metadata": {
    "execution": {
     "iopub.execute_input": "2021-06-18T15:23:04.514896Z",
     "iopub.status.busy": "2021-06-18T15:23:04.514164Z",
     "iopub.status.idle": "2021-06-18T15:23:04.651397Z",
     "shell.execute_reply": "2021-06-18T15:23:04.650808Z",
     "shell.execute_reply.started": "2021-06-18T15:17:08.481729Z"
    },
    "papermill": {
     "duration": 0.661612,
     "end_time": "2021-06-18T15:23:04.651550",
     "exception": false,
     "start_time": "2021-06-18T15:23:03.989938",
     "status": "completed"
    },
    "tags": []
   },
   "outputs": [
    {
     "data": {
      "text/plain": [
       "[<matplotlib.lines.Line2D at 0x7f5d4e7dfb50>]"
      ]
     },
     "execution_count": 24,
     "metadata": {},
     "output_type": "execute_result"
    },
    {
     "data": {
      "image/png": "[encoded data removed]",
      "text/plain": [
       "<Figure size 432x288 with 1 Axes>"
      ]
     },
     "metadata": {
      "needs_background": "light"
     },
     "output_type": "display_data"
    }
   ],
   "source": [
    "df1=new_df.tolist()\n",
    "df1.extend(lst_output)\n",
    "plt.plot(df1[1200:])"
   ]
  },
  {
   "cell_type": "code",
   "execution_count": 25,
   "id": "divided-print",
   "metadata": {
    "execution": {
     "iopub.execute_input": "2021-06-18T15:23:05.539573Z",
     "iopub.status.busy": "2021-06-18T15:23:05.538367Z",
     "iopub.status.idle": "2021-06-18T15:23:05.653304Z",
     "shell.execute_reply": "2021-06-18T15:23:05.652615Z",
     "shell.execute_reply.started": "2021-06-18T15:17:44.291818Z"
    },
    "papermill": {
     "duration": 0.578394,
     "end_time": "2021-06-18T15:23:05.653466",
     "exception": false,
     "start_time": "2021-06-18T15:23:05.075072",
     "status": "completed"
    },
    "tags": []
   },
   "outputs": [
    {
     "data": {
      "text/plain": [
       "[<matplotlib.lines.Line2D at 0x7f5d2e9e6b10>]"
      ]
     },
     "execution_count": 25,
     "metadata": {},
     "output_type": "execute_result"
    },
    {
     "data": {
      "image/png": "[encoded data removed]",
      "text/plain": [
       "<Figure size 432x288 with 1 Axes>"
      ]
     },
     "metadata": {
      "needs_background": "light"
     },
     "output_type": "display_data"
    }
   ],
   "source": [
    "df1=scaler.inverse_transform(df1).tolist()\n",
    "plt.plot(df1)"
   ]
  }
 ],
 "metadata": {
  "kernelspec": {
   "display_name": "Python 3",
   "language": "python",
   "name": "python3"
  },
  "language_info": {
   "codemirror_mode": {
    "name": "ipython",
    "version": 3
   },
   "file_extension": ".py",
   "mimetype": "text/x-python",
   "name": "python",
   "nbconvert_exporter": "python",
   "pygments_lexer": "ipython3",
   "version": "3.7.9"
  },
  "papermill": {
   "default_parameters": {},
   "duration": 279.198698,
   "end_time": "2021-06-18T15:23:07.537728",
   "environment_variables": {},
   "exception": null,
   "input_path": "__notebook__.ipynb",
   "output_path": "__notebook__.ipynb",
   "parameters": {},
   "start_time": "2021-06-18T15:18:28.339030",
   "version": "2.3.2"
  }
 },
 "nbformat": 4,
 "nbformat_minor": 5
}
